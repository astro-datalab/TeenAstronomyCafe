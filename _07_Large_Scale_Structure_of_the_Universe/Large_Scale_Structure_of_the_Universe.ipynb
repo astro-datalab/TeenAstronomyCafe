{
 "cells": [
  {
   "cell_type": "markdown",
   "metadata": {
    "slideshow": {
     "slide_type": "-"
    }
   },
   "source": [
    "<br>\n",
    "<br>\n",
    "<font size='7'><u><b>Our Vast Universe Probed with Big Data</b></u></font>\n",
    "<br>\n",
    "\n",
    "##### Written by Stephanie Juneau, NOAO, with contributions from Leah Fulmer & Gautham Narayan\n",
    "\n",
    "This notebook is interactive, and we will use it to learn and explore the distribution of galaxies in the universe. We follow a similar approach as other notebooks you might have used, in particular the one written by Gautham Narayan.\n",
    "\n",
    "Feel comfortable to ask questions as you go along!\n",
    "___"
   ]
  },
  {
   "cell_type": "markdown",
   "metadata": {},
   "source": [
    "# Table of Contents\n",
    "\n",
    "* [How to Use This Notebook](#How-to-Use-This-Notebook)\n",
    "* [Pre-Activity Setup](#Pre-Activity-Setup)\n",
    "* [Activity 1: How Far Away are Galaxies?](#Activity-1:-How-Far-Away-are-Galaxies?)\n",
    "    * [Step 1.1: Plot a Reference Spectrum](#Step-1.1:-Plot-a-Reference-Spectrum)\n",
    "    * [Step 1.2: Plot a Galaxy Spectrum](#Step-1.2:-Plot-a-Galaxy-Spectrum)\n",
    "    * [Step 1.3: Measure Redshifts](#Step-1.3:-Measure-Redshifts)\n",
    "    * [Step 1.4: Mystery Galaxy](#Step-1.4:-Mystery-Galaxy)\n",
    "    * [Step 1.5: Redshift Ruler](#Step-1.5:-Redshift-Ruler)\n",
    "* [Activity 2: Look at the Position of Many Galaxies](#Activity-2:-Look-at-the-Position-of-Many-Galaxies)\n",
    "    * [Step 2.1: Selecting Galaxies in a Region of the Sky](#Step-2.1:-Selecting-Galaxies-in-a-Region-of-the-Sky)\n",
    "    * [Step 2.2: Adding the 3rd Dimension](#Step-2.2:-Adding-the-3rd-Dimension)\n",
    "    * [Step 2.3: Zooming In and Zooming Out](#Step-2.3:-Zooming-In-and-Zooming-Out)\n",
    "    * [Step 2.4: Plot Full Sample over Sky Projection](#Step-2.4:-Plot-Full-Sample-over-Sky-Projection)\n",
    "___"
   ]
  },
  {
   "cell_type": "markdown",
   "metadata": {},
   "source": [
    "# How to Use This Notebook\n",
    "\n",
    "The webpage you are in is actually an app - much like the ones on your cellphone. This app consists of cells.\n",
    "\n",
    "An *input* cell looks like a light grey box with an `In [ ]:` on its left. Input cells each contain code - instructions to make the computer do something.\n",
    "\n",
    "To activate or select a cell, click anywhere inside of it.\n",
    "\n",
    "<div class='alert alert-info'>\n",
    "    <font size='3'><b>Select the cell below and read its contents.</b></font>\n",
    "</div>"
   ]
  },
  {
   "cell_type": "code",
   "execution_count": null,
   "metadata": {},
   "outputs": [],
   "source": [
    "# Text that follows a \"#\" is known as a comment.\n",
    "# Comments do not affect your code in any way.\n",
    "# You should always read the comments at the top of each cell you interact with.\n",
    "# Comments will be used to describe what the cell's code is actually doing."
   ]
  },
  {
   "cell_type": "markdown",
   "metadata": {},
   "source": [
    "To execute or run a selected cell, hit `[Shift + Enter]` on your keyboard.\n",
    "\n",
    "<div class='alert alert-info'>\n",
    "    <font size='3'><b>Select the cell below and read its contents. Then, run the cell.</b></font>\n",
    "</div>"
   ]
  },
  {
   "cell_type": "code",
   "execution_count": null,
   "metadata": {},
   "outputs": [],
   "source": [
    "# Text that DOESN'T follow a \"#\" is considered code.\n",
    "# Lines of code are instructions given to your computer.\n",
    "# The line of code below is a \"print\" statement.\n",
    "# A print statement literally prints out the text between its quotes.\n",
    "\n",
    "print(\"Congrats! You have successfully run your first cell!\")"
   ]
  },
  {
   "cell_type": "markdown",
   "metadata": {},
   "source": [
    "Running a cell creates an *output* directly below it. An output can be some text, a graph, an interactive slider, or even nothing at all! For that last case, you know you have run a cell when the `In [ ]:` becomes `In [#]:`, where \"#\" is any number.\n",
    "\n",
    "You can learn more about how Jupyter notebooks work at https://try.jupyter.org/\n",
    "___"
   ]
  },
  {
   "cell_type": "markdown",
   "metadata": {},
   "source": [
    "# Pre-Activity Setup\n",
    "\n",
    "In order for any of the activities to work properly, you must import the libraries needed for the code in this notebook.\n",
    "\n",
    "<div class='alert alert-info'>\n",
    "    <font size='3'><b>Select and run the cell below.</b></font>\n",
    "</div>"
   ]
  },
  {
   "cell_type": "code",
   "execution_count": null,
   "metadata": {
    "slideshow": {
     "slide_type": "-"
    }
   },
   "outputs": [],
   "source": [
    "# Here, you are importing the libraries needed for this notebook.\n",
    "# These libraries set up the plotting environment in your browser.\n",
    "\n",
    "%matplotlib notebook\n",
    "%pylab\n",
    "import matplotlib.path as mpath\n",
    "from astroML.datasets import fetch_sdss_spectrum, fetch_vega_spectrum, fetch_sdss_S82standards\n",
    "from astroML.plotting import MultiAxes\n",
    "from IPython.core.display import Image, display\n",
    "\n",
    "# Code that we will need to fetch galaxies' coordinates\n",
    "from astroML.datasets import fetch_sdss_specgals\n",
    "import matplotlib.cm as cm\n",
    "\n",
    "# For 3D Plotting:\n",
    "import matplotlib.pyplot as plt\n",
    "from mpl_toolkits.mplot3d import Axes3D\n",
    "\n",
    "# Experimental\n",
    "import ipywidgets as widgets\n",
    "\n",
    "print(\"\\nDone! You have successfully imported the libraries.\")"
   ]
  },
  {
   "cell_type": "markdown",
   "metadata": {},
   "source": [
    "___"
   ]
  },
  {
   "cell_type": "markdown",
   "metadata": {},
   "source": [
    "# Activity 1: How Far Away are Galaxies?\n",
    "\n",
    "In this activity, you will learn how astronomers measure distances to galaxies. You will get to compare galaxies to figure out which ones are closer or further away from us. You can then use this method for many more galaxies on your own as well!\n",
    "\n",
    "As in the first notebook, we are going to use data from the [Sloan Digital Sky Survey (SDSS)](http://sdss.org). This project used a telescope at Apache Point in New Mexico to look at the northern sky.\n",
    "\n",
    "<figure>\n",
    "    <center>\n",
    "        <br>\n",
    "        <img src='https://apod.nasa.gov/apod/image/9806/sloan_fermilab_big.jpg', width='300'>\n",
    "        <br>\n",
    "        <figcaption>\n",
    "            <font color='grey'>\n",
    "                <b>Figure 1:</b>\n",
    "                The Sloan Telescope at Apache Point, New Mexico.\n",
    "                <br>\n",
    "                <b>Image Credit:</b>\n",
    "                SDSS Team, Fermilab Visual Media Services.\n",
    "            </font>\n",
    "        </figcaption>\n",
    "    </center>\n",
    "</figure>\n",
    "\n",
    "The Sloan survey team found millions of stars and galaxies, and made their big data set public. In this activity, we will retrieve and examine galaxy data!\n",
    "\n",
    "So how did Sloan take spectra of millions of stars and galaxies? The team used metal plates like the one shown below, with a hundreds of holes aligned with the stars and galaxies to be observed. An optical fiber is placed in each hole in order to transfer the light to the instrument and camera. As you will see below, the data are identified by their *Plate* number, their *Fiber* number, and the date when they were obtained - the *MJD* ([Modified Julian Date](https://en.wikipedia.org/wiki/Julian_day)).\n",
    "\n",
    "<figure>\n",
    "    <center>\n",
    "        <br>\n",
    "        <img src='http://www.nature.com/polopoly_fs/7.2192.1325671958!/image/Dark-Energy.jpg_gen/derivatives/fullsize/Dark-Energy.jpg', width='300'>\n",
    "        <br>\n",
    "        <figcaption>\n",
    "            <font color='grey'>\n",
    "                <b>Figure 2:</b>\n",
    "                Holes in aluminum plates let the light from stars and galaxies passed to an optical fiber to the instrument.\n",
    "                <br>\n",
    "                <b>Image Credit:</b>\n",
    "                D. Long, SDSS-III.\n",
    "            </font>\n",
    "        </figcaption>\n",
    "    </center>\n",
    "</figure>\n",
    "\n",
    "<figure>\n",
    "    <center>\n",
    "        <br>\n",
    "        <img src='http://newscenter.lbl.gov/wp-content/uploads/sites/2/2008/09/schlegel.jpg', width='300'>\n",
    "        <br>\n",
    "        <figcaption>\n",
    "            <font color='grey'>\n",
    "                <b>Figure 3:</b>\n",
    "                David Schlegel, Principal Investigator of the BOSS survey (follow-up to SDSS), holding one fiber plug plate.\n",
    "            </font>\n",
    "        </figcaption>\n",
    "    </center>\n",
    "</figure>\n",
    "\n",
    "There were thousands of plates used (~2500 for SDSS), each with 640 fibers, which together gives 1.6 million spectra (including galaxies, stars, and extra spectra on blank sky).\n",
    "___"
   ]
  },
  {
   "cell_type": "markdown",
   "metadata": {},
   "source": [
    "## Step 1.1: Plot a Reference Spectrum\n",
    "\n",
    "A reference spectrum means that it is at redshift zero (not moving toward or away from us). In this case, the reference spectrum is that of a single star.\n",
    "\n",
    "<div class='alert alert-info'>\n",
    "    <h3 class='alert-heading'>Helpful Reminder(s)</h3>\n",
    "    <ul>\n",
    "        <li>Click anywhere inside of a cell to select it.</li>\n",
    "        <li>Hit [Shift + Enter] to run a selected cell.</li>\n",
    "    </ul>\n",
    "</div>"
   ]
  },
  {
   "cell_type": "code",
   "execution_count": null,
   "metadata": {},
   "outputs": [],
   "source": [
    "# Fetch single spectrum - Enter the same \"Plate\", \"MJD\" and \"Fiber\" numbers here\n",
    "# Then hit Shift+Enter\n",
    "\n",
    "plate = 396\n",
    "mjd = 51816\n",
    "fiber = 605\n",
    "spec = fetch_sdss_spectrum(plate, mjd, fiber)\n",
    "\n",
    "# now, we can plot the reference spectrum (at redshift=0)\n",
    "figure()\n",
    "plot(spec.wavelength(), spec.spectrum/spec.spectrum.max(), color='red')\n",
    "plt.title('Reference Spectrum')\n",
    "xlim(3800,6000)\n",
    "xlabel('Wavelength')\n",
    "ylabel('Brightness')"
   ]
  },
  {
   "cell_type": "markdown",
   "metadata": {},
   "source": [
    "___"
   ]
  },
  {
   "cell_type": "markdown",
   "metadata": {},
   "source": [
    "## Step 1.2: Plot a Galaxy Spectrum\n",
    "\n",
    "Here, you will plot the spectrum of a galaxy. Notice if there are similarities and differences in its shape and lines relative to the reference spectrum."
   ]
  },
  {
   "cell_type": "code",
   "execution_count": null,
   "metadata": {},
   "outputs": [],
   "source": [
    "# Fetch the first galaxy spectrum\n",
    "# Then hit Shift+Enter\n",
    "\n",
    "plate = 2434\n",
    "mjd = 53826\n",
    "fiber = 359\n",
    "spec1 = fetch_sdss_spectrum(plate, mjd, fiber)\n",
    "\n",
    "# now, we can plot the reference spectrum (at redshift=0)\n",
    "figure()\n",
    "plot(spec1.wavelength(), spec1.spectrum/40., color='black')\n",
    "plt.title('Galaxy A')\n",
    "xlabel('Wavelength')\n",
    "ylabel('Brightness')\n",
    "xlim(3800,6000)\n",
    "ylim(-0.1, 1.2)"
   ]
  },
  {
   "cell_type": "markdown",
   "metadata": {},
   "source": [
    "<div class='alert alert-success'>\n",
    "    <h3 class='alert-heading'>Quick Question(s)</h3>\n",
    "    <ul>\n",
    "        <li>Do you notice differences between the shapes two spectra?</li>\n",
    "        <li>Do you notice similar patterns in the line features (dips)?</li>\n",
    "    </ul>\n",
    "</div>\n",
    "\n",
    "___"
   ]
  },
  {
   "cell_type": "markdown",
   "metadata": {},
   "source": [
    "## Step 1.3: Measure Redshifts\n",
    "\n",
    "The next step here is to overlay a reference spectrum (called a template) onto the galaxy spectra from above.\n",
    "\n",
    "> <u><b>Remember:</b></u> A galaxy is a collection of billion of stars, so the shape of the spectrum is not identical to the reference spectrum of a single star. But because the stars have the same elements, notice similar \"dips\" in the spectra."
   ]
  },
  {
   "cell_type": "code",
   "execution_count": null,
   "metadata": {},
   "outputs": [],
   "source": [
    "# redshift value (0 for a star, and upward for distant galaxies e.g.: \n",
    "# z = 0.01, 0.02, 0.05, ... 0.1, 0.2, ... 1.0)\n",
    "# First run this cell with zero redshift, and then adjust the value.\n",
    "\n",
    "z1 = 0.\n",
    "\n",
    "# now, we can plot the reference spectrum (at redshift=0)\n",
    "figure()\n",
    "plot(spec1.wavelength(), spec1.spectrum/45., color='black')\n",
    "plot(spec.wavelength()*(1.+z1), spec.spectrum/spec.spectrum.max()/1.5, color='red')\n",
    "plt.title('Galaxy A')\n",
    "xlabel('Wavelength')\n",
    "ylabel('Brightness')\n",
    "xlim(3800,6000)\n",
    "ylim(-0.1, 1.2)"
   ]
  },
  {
   "cell_type": "markdown",
   "metadata": {},
   "source": [
    "<div class='alert alert-success'>\n",
    "    <h3 class='alert-heading'>Quick Question(s)</h3>\n",
    "    <ul>\n",
    "        <li>Do you notice how the galaxy spectrum is shifted with respect to the reference spectrum?</li>\n",
    "    </ul>\n",
    "</div>\n",
    "\n",
    "This is what we saw as the \"redshift\" due to the expansion of the universe, which causes galaxies to appear to recede away from us.\n",
    "___"
   ]
  },
  {
   "cell_type": "markdown",
   "metadata": {},
   "source": [
    "## Step 1.4: Mystery Galaxy\n",
    "\n",
    "Each group will receive the information to fetch a different spectrum of a mystery galaxy. This information will be on a piece of paper and contains PLATE, MJD, FIBER and NORM numbers. Enter these numbers in the cell below to measure the redshift (like you did above) for a new galaxy. If you do not get a piece of paper, simply use the numbers that are pre-entered below."
   ]
  },
  {
   "cell_type": "code",
   "execution_count": null,
   "metadata": {},
   "outputs": [],
   "source": [
    "# Now we do it again for a NEW galaxy!\n",
    "\n",
    "# Replace the plate, mjd, fiber and norm with the numbers you received.\n",
    "# Then hit Shift+Enter\n",
    "\n",
    "## Mystery galaxy\n",
    "plate = 2121\n",
    "mjd = 54180\n",
    "fiber = 414\n",
    "norm = 22.\n",
    "\n",
    "# Or choose one of the galaxies below (you need to delete the \"#\" sign in front of *ONE* block\n",
    "# after the Galaxy name, in order to set plate, mjd, fiber and norm)\n",
    "\n",
    "## Galaxy Mystery2 - delete the \"#\" for the lines below \n",
    "#plate = 1759\n",
    "#mjd = 53081\n",
    "#fiber = 126\n",
    "#norm = 15.\n",
    "\n",
    "## Galaxy Mystery3 - delete the \"#\" for the lines below\n",
    "#plate = 1839\n",
    "#mjd = 53471\n",
    "#fiber = 310\n",
    "#norm = 20.\n",
    "\n",
    "## Galaxy Mystery4 - delete the \"#\" for the lines below\n",
    "#plate = 2121\n",
    "#mjd = 54180\n",
    "#fiber = 523\n",
    "#norm = 350.\n",
    "\n",
    "spec2 = fetch_sdss_spectrum(plate, mjd, fiber)\n",
    "\n",
    "# redshift value (0 for a star, and upward for distant galaxies e.g.: \n",
    "# z=0.01, 0.02, 0.05, ... 0.1, 0.2, 0.3, ... 1.0)\n",
    "# First run this cell with zero redshift, and then adjust the value.\n",
    "z2 = 0.0\n",
    "\n",
    "# now, we can plot the reference spectrum (at redshift=0)\n",
    "figure()\n",
    "plot(spec2.wavelength(), spec2.spectrum/norm, color='black')\n",
    "plot(spec.wavelength()*(1.+z2), spec.spectrum/spec.spectrum.max()/1.5, color='red')\n",
    "plt.title('Galaxy B')\n",
    "xlabel('Wavelength')\n",
    "ylabel('Brightness')\n",
    "xlim(3800,6000)\n",
    "ylim(-0.1, 1.2)"
   ]
  },
  {
   "cell_type": "markdown",
   "metadata": {},
   "source": [
    "<div class='alert alert-warning'>\n",
    "    <h3 class='alert-heading'>Discussion Question(s)</h3>\n",
    "    <ul>\n",
    "        <li>Which galaxy is closer to us and why?</li>\n",
    "    </ul>\n",
    "</div>\n",
    "\n",
    "Now, let's check the redshift and learn more information about those two galaxies. [Click this link.](http://cas.sdss.org/dr14/en/tools/explore/Summary.aspx) Click on \"Search\" on the left hand side menu bar, and then enter the \"Plate\", \"Fiber\" and \"MJD\" for one galaxy at a time, and hit \"Go\". If you click on the image, you can move around, zoom in and out - it's like Google Maps for the night sky!\n",
    "___"
   ]
  },
  {
   "cell_type": "markdown",
   "metadata": {},
   "source": [
    "## Step 1.5: Redshift Ruler\n",
    "\n",
    "Each group had a different mystery galaxy. Let's see how far away they are compared with each other by placing them on the \"redshift ruler\" on the white board at the front of the room (if applicable).\n",
    "\n",
    "### What's next?\n",
    "\n",
    "Well done! You have measured redshifts for two galaxies, which is how astronomers determine distances to galaxies. Remember, the further away a galaxy is from us, the faster is seems to be moving away from us, and the more its light (spectrum) is redshifted! That's because the universe is expanding.\n",
    "\n",
    "Next, let's see what we can learn if we apply this information to many galaxies. Onward to exploring our vast universe!\n",
    "___"
   ]
  },
  {
   "cell_type": "markdown",
   "metadata": {},
   "source": [
    "# Activity 2: Look at the Position of Many Galaxies\n",
    "\n",
    "Similarly to using coordinates of latitude and longitude, the coordinates on the sky are defined onto a sphere. They are called RA (for Right Ascension) and Dec (for Declination). There are two illustrations below of these coordinate systems.\n",
    "\n",
    "<figure>\n",
    "    <center>\n",
    "        <br>\n",
    "        <img src='http://voyages.sdss.org/wp-content/uploads/2015/10/pre-flight-celestial-sphere.jpg', width='300'>\n",
    "        <br>\n",
    "        <figcaption>\n",
    "            <font color='grey'>\n",
    "                <b>Figure 4:</b>\n",
    "                Illustration of the celestial coordinate system with RA and Dec. You can read <a href='http://dev.skyserver.sdss3.org/voyages/pre-flight/ra-and-dec.aspx'>here</a> for an explanation by the SDSS team.\n",
    "            </font>\n",
    "        </figcaption>\n",
    "    </center>\n",
    "</figure>\n",
    "\n",
    "<figure>\n",
    "    <center>\n",
    "        <br>\n",
    "        <img src='https://upload.wikimedia.org/wikipedia/commons/9/98/Ra_and_dec_on_celestial_sphere.png', width='300'>\n",
    "        <br>\n",
    "        <figcaption>\n",
    "            <font color='grey'>\n",
    "                <b>Figure 5:</b>\n",
    "                Illustration of the celestial coordinate system with RA and Dec. You can read on Wikipedia about <a href='https://en.wikipedia.org/wiki/Right_ascension'>Right Ascension</a> and <a href='https://en.wikipedia.org/wiki/Declination'>Declination</a>.\n",
    "            </font>\n",
    "        </figcaption>\n",
    "    </center>\n",
    "</figure>\n",
    "\n",
    "___"
   ]
  },
  {
   "cell_type": "markdown",
   "metadata": {},
   "source": [
    "## Step 2.1: Selecting Galaxies in a Region of the Sky\n",
    "\n",
    "Next, we will fetch the positions of galaxies on the sky, and plot their RA and Dec coordinates.\n",
    "\n",
    "<div class='alert alert-info'>\n",
    "    <h3 class='alert-heading'>Helpful Reminder(s)</h3>\n",
    "    <ul>\n",
    "        <li>Click anywhere inside of a cell to select it.</li>\n",
    "        <li>Hit [Shift + Enter] to run a selected cell.</li>\n",
    "    </ul>\n",
    "</div>"
   ]
  },
  {
   "cell_type": "code",
   "execution_count": null,
   "metadata": {},
   "outputs": [],
   "source": [
    "# Code that we will need to fetch galaxies' coordinates\n",
    "from astroML.datasets import fetch_sdss_specgals\n",
    "import matplotlib.cm as cm\n",
    "\n",
    "# For 3D Plotting:\n",
    "import matplotlib.pyplot as plt\n",
    "from mpl_toolkits.mplot3d import Axes3D"
   ]
  },
  {
   "cell_type": "markdown",
   "metadata": {},
   "source": [
    "Now that the packages are loaded, run the cells below to actually fetch the galaxy sample and plot their positions on the sky."
   ]
  },
  {
   "cell_type": "code",
   "execution_count": null,
   "metadata": {},
   "outputs": [],
   "source": [
    "# Fetch the sample from the Sloan data\n",
    "data = fetch_sdss_specgals()\n",
    "print('Done retrieving the galaxy sample')\n",
    "\n",
    "# Define the coordinate variables for plotting\n",
    "RA = data['ra']\n",
    "DEC = data['dec']\n",
    "\n",
    "print(' ')\n",
    "print('Range for RA values')\n",
    "print('  ',np.amin(RA),np.amax(RA))\n",
    "print('Range for DEC values')\n",
    "print('  ',np.amin(DEC),np.amax(DEC))\n",
    "print(' ')\n",
    "\n",
    "# convert RA range to [-180,+180] instead of [0,360]\n",
    "RA -= 180\n",
    "\n",
    "print('Range for RA values after conversion')\n",
    "print('  ',np.amin(RA),np.amax(RA))\n",
    "\n",
    "#plot the RA/DEC positions\n",
    "figure()\n",
    "s=0.8   #symbol size\n",
    "plt.scatter(RA, DEC,s=s, color='red',alpha=0.3)\n",
    "plt.title('SDSS Galaxies')\n",
    "xlabel('RA (degrees)')\n",
    "ylabel('DEC (degrees)')\n",
    "\n",
    "#range for the x axis (horizontal) and y axis (vertical)\n",
    "xlim(0,10)\n",
    "ylim(10,18)"
   ]
  },
  {
   "cell_type": "markdown",
   "metadata": {},
   "source": [
    "___"
   ]
  },
  {
   "cell_type": "markdown",
   "metadata": {},
   "source": [
    "## Step 2.2: Adding the 3rd Dimension\n",
    "\n",
    "We saw before that in order to know the full distribution in 3D, we need to know how far away the galaxies are located. Here, we will add the information from the redshift.\n",
    "\n",
    "> <u><b>Remember:</b></u> The larger the redshift, the further away the galaxy!\n",
    "\n",
    "First, we will plot all galaxies in red, and show galaxies that have approximately the same redshift in black. In this first example, we will select for values of redshift between $z=0.10$ and $z=0.12$. This is done by computing galaxies in a window of $-0.01$ and $+0.1$ around $z=0.11$ (since $0.11-0.01=0.10$ and $0.11+0.01=0.12$). We call this an interval of redshift."
   ]
  },
  {
   "cell_type": "code",
   "execution_count": null,
   "metadata": {},
   "outputs": [],
   "source": [
    "#Fetch the sample from the Sloan data\n",
    "data = fetch_sdss_specgals()\n",
    "print('Done retrieving the galaxy sample')\n",
    "\n",
    "#define the variables for plotting\n",
    "RA = data['ra']\n",
    "DEC = data['dec']\n",
    "\n",
    "# convert RA range to [-180,+180] instead of [0,360]\n",
    "RA -= 180\n",
    "\n",
    "#define redshift variable z\n",
    "z = data['z']\n",
    "\n",
    "#pick a redshift range to highlight in a different color\n",
    "rz = np.where(np.absolute(z-0.08)<0.01)\n",
    "\n",
    "#plot the RA/DEC positions\n",
    "figure()\n",
    "plt.scatter(RA, DEC,s=5.0,lw=0,c='red',alpha=0.3)\n",
    "plt.scatter(RA[rz], DEC[rz],s=8.0,lw=0,c='black')  #rz selected galaxies\n",
    "plt.title('SDSS Galaxies (Thin Redshift Slice in Black)')\n",
    "xlabel('RA (degrees)')\n",
    "ylabel('DEC (degrees)')\n",
    "\n",
    "#range for the x axis (horizontal) and y axis (vertical)\n",
    "xlim(0,10)\n",
    "ylim(10,18)"
   ]
  },
  {
   "cell_type": "markdown",
   "metadata": {},
   "source": [
    "Now, instead of showing just one interval of redshift in black, we will show the redshift of each galaxy color-coded. Each galaxy is shown with a dot, and each dot will have a color corresponding to the redshift: purple/blue colors mean a low redshift like between $0$-$0.05$, then green/yellow mean slightly higher redshift like $0.1$, and so on until the higher redshift shown here of $0.2$ in red. Remember that this means that points with exactly the same color are at the same distance from us!"
   ]
  },
  {
   "cell_type": "code",
   "execution_count": null,
   "metadata": {},
   "outputs": [],
   "source": [
    "#Fetch the sample from the Sloan data\n",
    "data = fetch_sdss_specgals()\n",
    "\n",
    "#define the variables for plotting\n",
    "RA = data['ra']\n",
    "DEC = data['dec']\n",
    "\n",
    "# convert RA range to [-180,+180] instead of [0,360]\n",
    "RA -= 180\n",
    "\n",
    "#plot the RA/DEC positions\n",
    "#figure(figsize=(8,4.75))\n",
    "fig, ax = plt.subplots(1, 1, figsize=(8, 4.75))\n",
    "\n",
    "# Tests to get black bckgrd\n",
    "#plt.style.use('default')\n",
    "#plt.style.use('dark_background')\n",
    "#plt.rcParams['figure.facecolor'] = 'black'\n",
    "\n",
    "s=4.5   #symbol size\n",
    "plt.scatter(RA, DEC,s=s,c=data['z'], lw=0,cmap=plt.cm.rainbow,\n",
    "            vmin=0, vmax=0.2)\n",
    "# Add a rextangle to show where we will zoom in next:\n",
    "# We give the (x,y) of 4 corners + repeat first corner to close the rectangle\n",
    "#plt.plot([4,4,6,6,4], [11,13,13,11,11], color='black', linewidth=2)\n",
    "\n",
    "# Plot labels for the title and both horizontal (x) and vertical (y) axes\n",
    "plt.title('SDSS Galaxies (Color-Coded by redshift)')\n",
    "xlabel('RA (degrees)')\n",
    "ylabel('DEC (degrees)')\n",
    "\n",
    "#range for the x axis (horizontal) and y axis (vertical)\n",
    "xlim(0,10)\n",
    "ylim(10,18)\n",
    "\n",
    "#color bar\n",
    "plt.colorbar()\n",
    "\n",
    "plt.show()"
   ]
  },
  {
   "cell_type": "markdown",
   "metadata": {},
   "source": [
    "Next, you will make a 3D version of the above 2D plot (same dots but in 3D)."
   ]
  },
  {
   "cell_type": "code",
   "execution_count": null,
   "metadata": {},
   "outputs": [],
   "source": [
    "#3D Plotting\n",
    "\n",
    "#Fetch the sample from the Sloan data\n",
    "data = fetch_sdss_specgals()\n",
    "\n",
    "#define the variables for plotting\n",
    "RA = data['ra']\n",
    "RA -= 180 # convert RA range to [-180,+180] instead of [0,360]\n",
    "DEC = data['dec']\n",
    "z = data['z']\n",
    "\n",
    "# Setting ranges\n",
    "limits = np.logical_and(np.logical_and(np.logical_and(RA<10, RA>0), np.logical_and(DEC>10, DEC<18)), np.logical_and(z>0.0, z<0.2))\n",
    "\n",
    "RA_new = RA[limits]\n",
    "DEC_new = DEC[limits]\n",
    "\n",
    "#define redshift variable z\n",
    "\n",
    "z_new = z[limits]\n",
    "\n",
    "#plot the RA/DEC positions\n",
    "fig = plt.figure(figsize=(8,5))\n",
    "ax = fig.add_subplot(111, projection='3d')\n",
    "p = ax.scatter(RA_new, z_new, DEC_new, zdir='z', s=2.5, c=z_new, cmap=plt.cm.rainbow, vmin=0, vmax=0.2, depthshade=True)\n",
    "fig.colorbar(p)\n",
    "\n",
    "# Plot labels for the title and both horizontal (x) and vertical (y) axes\n",
    "plt.title('SDSS Galaxies (Color-Coded by redshift)')\n",
    "ax.set_xlabel('RA (deg)')\n",
    "ax.set_ylabel('Redshift (z)')\n",
    "ax.set_zlabel('DEC (deg)')\n",
    "\n",
    "#range for the x axis (horizontal) and y axis (vertical)\n",
    "# ax.set_xlim3d(0,10)\n",
    "# ax.set_zlim3d(10,18)\n",
    "\n",
    "plt.show()"
   ]
  },
  {
   "cell_type": "markdown",
   "metadata": {},
   "source": [
    "The color bar to the right-hand side shows the correspondence between color and redshift. As mentioned before, points with exactly the same color are at the same distance from us. Purple points are the closest to us, then blue, aqua, green and so on. Think about which galaxies/colors are near and which galaxies/colors are far.\n",
    "\n",
    "<div class='alert alert-success'>\n",
    "    <h3 class='alert-heading'>Quick Question(s)</h3>\n",
    "    <ul>\n",
    "        <li>Can you use this information to imagine the distribution of galaxies in 3D?</li>\n",
    "        <li>Do you notice any structure together at the same distance from us?</li>\n",
    "    </ul>\n",
    "</div>\n",
    "\n",
    "The black rectangle in the figure shows where we will zoom in during the next exercise below.\n",
    "___"
   ]
  },
  {
   "cell_type": "markdown",
   "metadata": {},
   "source": [
    "## Step 2.3: Zooming In and Zooming Out\n",
    "\n",
    "Now, we will repeat the plots from Step 2.2 above, but with a zoom on a smaller region (\"zooming in\"), and then over a larger region (\"zooming out\")."
   ]
  },
  {
   "cell_type": "code",
   "execution_count": null,
   "metadata": {},
   "outputs": [],
   "source": [
    "# ZOOMING IN\n",
    "\n",
    "#Fetch the sample from the Sloan data\n",
    "data = fetch_sdss_specgals()\n",
    "\n",
    "#define the variables for plotting\n",
    "RA = data['ra']\n",
    "DEC = data['dec']\n",
    "\n",
    "# convert RA range to [-180,+180] instead of [0,360]\n",
    "RA -= 180\n",
    "\n",
    "#plot the RA/DEC positions\n",
    "figure()\n",
    "s=10.0   #symbol size\n",
    "plt.scatter(RA, DEC,s=s,c=data['z'], lw=0,cmap=plt.cm.rainbow,\n",
    "            vmin=0, vmax=0.2)\n",
    "plt.title('SDSS Galaxies (Zoom In)')\n",
    "xlabel('RA (degrees)')\n",
    "ylabel('DEC (degrees)')\n",
    "\n",
    "#range for the x axis (horizontal) and y axis (vertical)\n",
    "xlim(4,6)\n",
    "ylim(11,13)\n",
    "\n",
    "#color bar\n",
    "plt.colorbar()\n",
    "\n",
    "# Count how many galaxies are within the plot\n",
    "points = np.column_stack([RA, DEC])\n",
    "verts = np.array([[4,4,6,6], [11,13,13,11]]).T\n",
    "path = mpath.Path(verts)\n",
    "points_inside = points[path.contains_points(points)]\n",
    "print('-------------------------------------')\n",
    "print('Number of galaxies in the plot above:')\n",
    "print('  ',np.count_nonzero(points_inside))"
   ]
  },
  {
   "cell_type": "markdown",
   "metadata": {},
   "source": [
    "Next, you will make a 3D version of the above 2D plot (same dots but in 3D)."
   ]
  },
  {
   "cell_type": "code",
   "execution_count": null,
   "metadata": {},
   "outputs": [],
   "source": [
    "#3D Plotting\n",
    "\n",
    "#Fetch the sample from the Sloan data\n",
    "data = fetch_sdss_specgals()\n",
    "\n",
    "#define the variables for plotting\n",
    "RA = data['ra']\n",
    "RA -= 180 # convert RA range to [-180,+180] instead of [0,360]\n",
    "DEC = data['dec']\n",
    "z = data['z']\n",
    "\n",
    "# Setting ranges\n",
    "limits = np.logical_and(np.logical_and(np.logical_and(RA<6, RA>4), np.logical_and(DEC>11, DEC<13)), np.logical_and(z>0.0, z<0.2))\n",
    "\n",
    "RA_new = RA[limits]\n",
    "DEC_new = DEC[limits]\n",
    "\n",
    "#define redshift variable z\n",
    "\n",
    "z_new = z[limits]\n",
    "\n",
    "#plot the RA/DEC positions\n",
    "fig = plt.figure(figsize=(8,4.75))\n",
    "ax = fig.add_subplot(111, projection='3d')\n",
    "p = ax.scatter(RA_new, z_new, DEC_new, zdir='z', s=10, c=z_new, cmap=plt.cm.rainbow, vmin=0, vmax=0.2, depthshade=True)\n",
    "fig.colorbar(p)\n",
    "\n",
    "# Plot labels for the title and both horizontal (x) and vertical (y) axes\n",
    "plt.title('SDSS Galaxies (Color-Coded by redshift)')\n",
    "ax.set_xlabel('RA (deg)')\n",
    "ax.set_ylabel('Redshift (z)')\n",
    "ax.set_zlabel('DEC (deg)')\n",
    "\n",
    "plt.show()"
   ]
  },
  {
   "cell_type": "markdown",
   "metadata": {},
   "source": [
    "<div class='alert alert-success'>\n",
    "    <h3 class='alert-heading'>Quick Question(s)</h3>\n",
    "    <ul>\n",
    "        <li>Do you see any interesting galaxy structures?</li>\n",
    "        <li>What galaxy structures are closer/further from you?</li>\n",
    "    </ul>\n",
    "</div>\n",
    "\n",
    "Now, let's step back and plot galaxies over a large region of the sky!"
   ]
  },
  {
   "cell_type": "code",
   "execution_count": null,
   "metadata": {},
   "outputs": [],
   "source": [
    "# ZOOMING OUT\n",
    "\n",
    "#Fetch the sample from the Sloan data\n",
    "data = fetch_sdss_specgals()\n",
    "\n",
    "#define the variables for plotting\n",
    "RA = data['ra']\n",
    "DEC = data['dec']\n",
    "\n",
    "# convert RA range to [-180,+180] instead of [0,360]\n",
    "RA -= 180\n",
    "\n",
    "#plot the RA/DEC positions\n",
    "figure()\n",
    "s=1.0   #symbol size\n",
    "plt.scatter(RA, DEC,s=s,c=data['z'], lw=0,cmap=plt.cm.rainbow,\n",
    "            vmin=0, vmax=0.2)\n",
    "\n",
    "# Add a rextangle where we zoomed in before:\n",
    "# We give the (x,y) of 4 corners + repeat first corner to close the rectangle\n",
    "#plt.plot([4,4,6,6,4], [11,13,13,11,11], color='black', linewidth=1)\n",
    "\n",
    "# Add original rectangle (before zooming in)\n",
    "plt.plot([0,0,10,10,0], [10,18,18,10,10], color='black', linewidth=2)\n",
    "\n",
    "\n",
    "# Plot labels for the title and both horizontal (x) and vertical (y) axes\n",
    "plt.title('SDSS Galaxies (Zoom Out)')\n",
    "xlabel('RA (degrees)')\n",
    "ylabel('DEC (degrees)')\n",
    "\n",
    "#range for the x axis (horizontal) and y axis (vertical)\n",
    "xlim(-15,15)\n",
    "ylim(0,30)\n",
    "\n",
    "#color bar\n",
    "plt.colorbar()\n",
    "\n",
    "# Count how many galaxies are within the plot\n",
    "points = np.column_stack([RA, DEC])\n",
    "verts = np.array([[-15,-15,15,15], [0,30,30,0]]).T\n",
    "path = mpath.Path(verts)\n",
    "points_inside = points[path.contains_points(points)]\n",
    "print('-------------------------------------')\n",
    "print('Number of galaxies in the plot above:')\n",
    "print('  ',np.count_nonzero(points_inside))"
   ]
  },
  {
   "cell_type": "markdown",
   "metadata": {},
   "source": [
    "The color bar to the right-hand side shows the correspondence between color and redshift. The black rectangle shows the region from the previous plot (\"Zoomed In\"). You can compare the size of the two regions directly.\n",
    "\n",
    "<div class='alert alert-danger'>\n",
    "    <h3 class='alert-heading'>Concluding Question(s)</h3>\n",
    "    <ol>\n",
    "        <li>How many times more galaxies are in the large (zoomed out) view relative to the small (zoomed in) view?</li>\n",
    "        <li>How many times can you fit the small region within the large region? (Hint: compute the size from the axes)</li>\n",
    "        <li>Are those two numbers above the same? What does it mean?</li>\n",
    "        <li>What do you see now on the zoomed out view?</li>\n",
    "        <li>Are those structures smaller or larger?</li>\n",
    "    </ol>\n",
    "</div>\n",
    "\n",
    "___"
   ]
  },
  {
   "cell_type": "markdown",
   "metadata": {},
   "source": [
    "## Step 2.4: Plot Full Sample over Sky Projection\n",
    "\n",
    "Below, we will again plot the positions of galaxies, and include the information on redshift as the color (but with a different color scheme).\n",
    "\n",
    "The difference with the steps above is that we will now plot the sample of galaxies over the full sky. The SDSS survey does not cover the full sky, so we will see what we call the \"footprint\" of the survey. This means the regions of the sky where the telescope was pointed to gather images and spectra."
   ]
  },
  {
   "cell_type": "code",
   "execution_count": null,
   "metadata": {},
   "outputs": [],
   "source": [
    "#------------------------------------------------------------\n",
    "# plot the RA/DEC in an area-preserving projection\n",
    "\n",
    "#Actually fetch the sample from the Sloan data\n",
    "data = fetch_sdss_specgals()\n",
    "\n",
    "# Define coordinate variables\n",
    "RA = data['ra']\n",
    "DEC = data['dec']\n",
    "\n",
    "# convert coordinates to degrees\n",
    "RA -= 180\n",
    "RA *= np.pi / 180\n",
    "DEC *= np.pi / 180\n",
    "\n",
    "# keep galaxies in a selected area\n",
    "#rkeep = np.where(RA between [-30,0] and DEC between [15,30])\n",
    "\n",
    "figure()\n",
    "ax = plt.axes(projection='mollweide')\n",
    "\n",
    "ax = plt.axes()\n",
    "ax.grid()\n",
    "plt.scatter(RA, DEC, s=1, lw=0, c=data['z'], cmap=plt.cm.rainbow,\n",
    "            vmin=0, vmax=0.2)\n",
    "\n",
    "plt.title('SDSS DR8 Spectroscopic Galaxies')\n",
    "cb = plt.colorbar(cax=plt.axes([0.05, 0.1, 0.9, 0.05]),\n",
    "                  orientation='horizontal',\n",
    "                  ticks=np.linspace(0, 0.2, 9))\n",
    "cb.set_label('redshift')"
   ]
  },
  {
   "cell_type": "markdown",
   "metadata": {},
   "source": [
    "> <u><b>Hint:</b></u> for more color maps, you can look at this reference <a href=http://matplotlib.org/examples/color/colormaps_reference.html>page</a>. For example, you can replace \"rainbow\" with \"autumn_r\"."
   ]
  }
 ],
 "metadata": {
  "anaconda-cloud": {},
  "kernelspec": {
   "display_name": "Python 3",
   "language": "python",
   "name": "python3"
  },
  "language_info": {
   "codemirror_mode": {
    "name": "ipython",
    "version": 3
   },
   "file_extension": ".py",
   "mimetype": "text/x-python",
   "name": "python",
   "nbconvert_exporter": "python",
   "pygments_lexer": "ipython3",
   "version": "3.6.5"
  }
 },
 "nbformat": 4,
 "nbformat_minor": 2
}
