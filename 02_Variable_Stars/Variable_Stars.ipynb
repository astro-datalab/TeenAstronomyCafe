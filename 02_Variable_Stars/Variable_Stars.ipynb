{
 "cells": [
  {
   "cell_type": "markdown",
   "metadata": {},
   "source": [
    "<br>\n",
    "<br>\n",
    "<font size='6'><u><b>Variable Stars</b></u></font>\n",
    "<br>\n",
    "\n",
    "##### Written by Chien-Hsiu Lee, NOAO\n",
    "##### Revised by Andres Jaramillo\n",
    "\n",
    "In this activity we are going to look at stars that change their magnitudes (brightness) in time. We can use a certain group of these stars to help estimate distances to other astronomical objects such as M31, our neighboring galaxy.\n",
    "___"
   ]
  },
  {
   "cell_type": "markdown",
   "metadata": {},
   "source": [
    "# Table of Contents\n",
    "\n",
    "* [How to Use This Notebook](#How-to-Use-This-Notebook)\n",
    "* [Pre-Activity Setup](#Pre-Activity-Setup)\n",
    "* [Activity 1: Finding the Period of a Star](#Activity-1:-Finding-the-Period-of-a-Star)\n",
    "    * [Question 1: Can you estimate the period from this diagram?](#Question-1:-Can-you-estimate-the-period-from-this-diagram?)\n",
    "* [Activity 2: Classify the Variable Star](#Activity-2:-Classify-the-Variable-Star)\n",
    "    * [Question 2: Using a4/a2 and the period, can you detemine the type of this variable?](#Question-2:-Using-a4/a2-and-the-period,-can-you-detemine-the-type-of-this-variable?)\n",
    "* [Activity 3: Use Leavitt Law to Estimate Distance](#Activity-3:-Use-Leavitt-Law-to-Estimate-Distance)\n",
    "    * [Question 3: Can you estimate the distance to the Andromeda galaxy?](#Question-3:-Can-you-estimate-the-distance-to-the-Andromeda-galaxy?)\n",
    "    * [Bonus Question: Can you estimate the distance to Large Magellanic Cloud?](#Bonus-Question:-Can-you-estimate-the-distance-to-Large-Magellanic-Cloud?)\n",
    "___"
   ]
  },
  {
   "cell_type": "markdown",
   "metadata": {},
   "source": [
    "# How to Use This Notebook\n",
    "\n",
    "The webpage you are in is actually an app - much like the ones on your cellphone. This app consists of cells.\n",
    "\n",
    "An *input* cell looks like a light grey box with an `In [ ]:` on its left. Input cells each contain code - instructions to make the computer do something.\n",
    "\n",
    "To activate or select a cell, click anywhere inside of it.\n",
    "\n",
    "<div class='alert alert-info'>\n",
    "    <font size='3'><b>Select the cell below and read its contents.</b></font>\n",
    "</div>"
   ]
  },
  {
   "cell_type": "code",
   "execution_count": null,
   "metadata": {},
   "outputs": [],
   "source": [
    "# Text that follows a \"#\" is known as a comment.\n",
    "# Comments do not affect your code in any way.\n",
    "# You should always read the comments at the top of each cell you interact with.\n",
    "# Comments will be used to describe what the cell's code is actually doing."
   ]
  },
  {
   "cell_type": "markdown",
   "metadata": {},
   "source": [
    "To execute or run a selected cell, hit `[Shift + Enter]` on your keyboard.\n",
    "\n",
    "<div class='alert alert-info'>\n",
    "    <font size='3'><b>Select the cell below and read its contents. Then, run the cell.</b></font>\n",
    "</div>"
   ]
  },
  {
   "cell_type": "code",
   "execution_count": null,
   "metadata": {},
   "outputs": [],
   "source": [
    "# Text that DOESN'T follow a \"#\" is considered code.\n",
    "# Lines of code are instructions given to your computer.\n",
    "# The line of code below is a \"print\" statement.\n",
    "# A print statement literally prints out the text between its quotes.\n",
    "\n",
    "print(\"Congrats! You have successfully run your first cell!\")"
   ]
  },
  {
   "cell_type": "markdown",
   "metadata": {},
   "source": [
    "Running a cell creates an *output* directly below it. An output can be some text, a graph, an interactive slider, or even nothing at all! For that last case, you know you have run a cell when the `In [ ]:` becomes `In [#]:`, where \"#\" is any number.\n",
    "\n",
    "You can learn more about how Jupyter notebooks work at https://try.jupyter.org/\n",
    "___"
   ]
  },
  {
   "cell_type": "markdown",
   "metadata": {},
   "source": [
    "# Pre-Activity Setup\n",
    "\n",
    "In order for any of the activities to work properly, you must import the libraries needed for the code in this notebook.\n",
    "\n",
    "<div class='alert alert-info'>\n",
    "    <font size='3'><b>Select and run the cell below.</b></font>\n",
    "</div>"
   ]
  },
  {
   "cell_type": "code",
   "execution_count": null,
   "metadata": {},
   "outputs": [],
   "source": [
    "#First we need to load some libraries/packages\n",
    "import numpy as np\n",
    "import matplotlib.pyplot as plt\n",
    "from astropy.io import ascii"
   ]
  },
  {
   "cell_type": "markdown",
   "metadata": {},
   "source": [
    "___"
   ]
  },
  {
   "cell_type": "markdown",
   "metadata": {},
   "source": [
    "# Activity 1: Finding the Period of a Star\n",
    "\n",
    "In this exercise, we will learn how to display light curves (brightness as a function of time) and from the light curve, find the period of a variable star."
   ]
  },
  {
   "cell_type": "code",
   "execution_count": null,
   "metadata": {},
   "outputs": [],
   "source": [
    "#We read in the observation data and plot the light curve\n",
    "lc=ascii.read('cep1862r.tab')\n",
    "mjd, mag, err = lc['col1'], lc['col2'], lc['col3']\n",
    "\n",
    "plt.figure(figsize=(12, 8))\n",
    "plt.plot(mjd, mag, 'g.')\n",
    "plt.xlabel('Time [day]', size=20)\n",
    "plt.ylabel('Brightness [magnitude]', size=20)\n",
    "plt.title('Light curve of a variable star', size=20)\n",
    "plt.ylim(20.2,18.8)\n",
    "#plt.rc('font', weight='bold')\n",
    "plt.rc('xtick.major', size=10, pad=10)\n",
    "plt.rc('ytick.major', size=10, pad=10)\n",
    "plt.rc('ytick', labelsize=20)\n",
    "plt.rc('xtick', labelsize=20)\n",
    "plt.show()"
   ]
  },
  {
   "cell_type": "markdown",
   "metadata": {},
   "source": [
    "This is a good start and there appears to be a periodic nature to the star, so lets find the period."
   ]
  },
  {
   "cell_type": "code",
   "execution_count": null,
   "metadata": {},
   "outputs": [],
   "source": [
    "#now we use a package to find the period\n",
    "from gatspy.periodic import LombScargleFast\n",
    "\n",
    "ls=LombScargleFast()\n",
    "ls.optimizer.period_range = (0.1,100)\n",
    "ls.fit(mjd,mag)\n",
    "period0=ls.best_period\n",
    "#print(\"Best period: \" + str(period) + \" days\")\n",
    "\n",
    "#periodogram\n",
    "periods = np.linspace(1,100,1000)\n",
    "scores = ls.score(periods)\n",
    "plt.figure(figsize=(12, 8))\n",
    "plt.plot(periods,scores)\n",
    "plt.xlabel(\"Period [day]\", size=20)\n",
    "plt.ylabel(\"Likelihood\", size=20)\n",
    "plt.title(\"Lomb-Scargle-Periodogram\", size=20)\n",
    "plt.show()\n"
   ]
  },
  {
   "cell_type": "markdown",
   "metadata": {},
   "source": [
    "___"
   ]
  },
  {
   "cell_type": "markdown",
   "metadata": {},
   "source": [
    "## Question 1: Can you estimate the period from this diagram?\n",
    "\n",
    "That was a great way to make sure we know the period. In fact, if we assume all the data sits on the same periodic function, we should be able to condense all the data to a single period, or \"phased light curve\". This will make it easier to read and see the period.\n",
    "\n",
    "From the above diagram of likelihood versus period, you can probably determine the period of the variable star. But for arguments sake, let's play around with different periods, say from 10 to 60 days, and see which of their diagram of period versus brightness make sense."
   ]
  },
  {
   "cell_type": "code",
   "execution_count": null,
   "metadata": {},
   "outputs": [],
   "source": [
    "#print(\"Best period: \" + str(period) + \" days\")\n",
    "# put in a number between 10 and 60\n",
    "#period=\n",
    "period = 30.864572200228128\n",
    "\n",
    "phase = np.zeros(shape=mjd.shape)\n",
    "phase = np.fmod(mjd/period,1)\n",
    "\n",
    "plt.figure(figsize=(12, 8))\n",
    "plt.plot(phase*period,mag,\"g.\")\n",
    "plt.plot((phase+1)*period,mag,\"r.\")\n",
    "plt.ylim(20.2,18.8)\n",
    "plt.xlabel('Time [Days]', size=20)\n",
    "plt.ylabel('Brightness [Magnitude]', size=20)\n",
    "plt.title('Phased light curve', size=20)\n",
    "plt.show()"
   ]
  },
  {
   "cell_type": "markdown",
   "metadata": {},
   "source": [
    "___"
   ]
  },
  {
   "cell_type": "markdown",
   "metadata": {},
   "source": [
    "# Activity 2: Classify the Variable Star\n",
    "\n",
    "In this exercise, we will learn how to use a series of cosine and sine functions to model a light curve (so-called Fourier decomposition), and how we can use the resulting coefficients to classify the type of variable star."
   ]
  },
  {
   "cell_type": "code",
   "execution_count": null,
   "metadata": {},
   "outputs": [],
   "source": [
    "#definition of Fourier decomposition function\n",
    "from scipy import optimize\n",
    "pi=3.1415\n",
    "def FourierDecomp(x, a0, a1, a2,a3,a4, b1, b2, b3, b4):\n",
    "    return a0 + a1 * np.cos(2*pi* x) + a2 * np.cos(2*pi*2*x) + a3*np.cos(2*pi*3*x) + a4*np.cos(2*pi*4*x) + b1*np.sin(2*pi*x) + b2*np.sin(2*pi*2*x) + b3*np.sin(2*pi*3*x) + b4*np.sin(2*pi*4*x) \n",
    "\n",
    "#fit the light curve and show coefficients\n",
    "params, params_covariance = optimize.curve_fit(FourierDecomp, phase, mag, p0=[19.5, 0, 0, 0, 0, 0, 0, 0, 0])\n",
    "\n",
    "print(params)"
   ]
  },
  {
   "cell_type": "markdown",
   "metadata": {},
   "source": [
    "And plot the resulting curve on the data"
   ]
  },
  {
   "cell_type": "code",
   "execution_count": null,
   "metadata": {},
   "outputs": [],
   "source": [
    "plt.figure(figsize=(12, 8))\n",
    "plt.plot(phase*period, mag, \"r.\", label='Data')\n",
    "plt.plot((phase+1)*period, mag, \"r.\", label='Data')\n",
    "p2=np.linspace(0,1,100)\n",
    "plt.plot(p2*period, FourierDecomp(p2, params[0], params[1], params[2], params[3], params[4], params[5], params[6], params[7], params[8]), color='black', label='Fitted function')\n",
    "plt.plot((p2+1)*period,FourierDecomp(p2, params[0], params[1], params[2], params[3], params[4], params[5], params[6], params[7], params[8]), color='black', label='Fitted function')\n",
    "plt.xlabel('Time [Days]', size=20)\n",
    "plt.ylabel('Brightness [Magnitude]', size=20)\n",
    "plt.ylim(20.2,18.8)\n",
    "plt.show()"
   ]
  },
  {
   "cell_type": "markdown",
   "metadata": {},
   "source": [
    "From the light curve, use coefficients a4 and a2 to determine a4/a2 vs period."
   ]
  },
  {
   "cell_type": "code",
   "execution_count": null,
   "metadata": {},
   "outputs": [],
   "source": [
    "print(\"a4/a2: \",params[4]/params[2], \"log period: \", np.log10(period))"
   ]
  },
  {
   "cell_type": "markdown",
   "metadata": {},
   "source": [
    "___"
   ]
  },
  {
   "cell_type": "markdown",
   "metadata": {},
   "source": [
    "## Question 2: Using a4/a2 and the period, can you detemine the type of this variable?\n",
    "\n",
    "To determine the type of variable star from the period, check the classification diagram:\n",
    "\n",
    "<img src=\"TeenCafeClass.jpeg\">\n",
    "\n",
    "Now use this period with the Leavitt Law to determine luminosity (i.e., absolute magnitude or intrinsic brightness) and with that, get the distance.\n",
    "___"
   ]
  },
  {
   "cell_type": "markdown",
   "metadata": {},
   "source": [
    "# Activity 3: Use Leavitt Law to Estimate Distance\n",
    "\n",
    "In this exercise, we will fit the data to determine the coefficients of Leavitt law, and from that, we can estimate the distance to our nearest spiral galaxy, M31.\n",
    "\n",
    "<img src=\"TeenCafeDistance.jpeg\">"
   ]
  },
  {
   "cell_type": "code",
   "execution_count": null,
   "metadata": {},
   "outputs": [],
   "source": [
    "#read in data of Andromeda Cepheids\n",
    "cep=ascii.read('cep.tab')\n",
    "per, jmag, hmag, typ = cep['col1'], cep['col2'], cep['col3'], cep['col4']\n",
    "\n",
    "plt.figure(figsize=(12, 8))\n",
    "plt.plot(np.log10(per[cep['col4'] == 'FM']), jmag[cep['col4'] == 'FM'], 'm.')\n",
    "plt.plot(np.log10(per[cep['col4'] == 'FO']), jmag[cep['col4'] == 'FO'], 'y.')\n",
    "\n",
    "#plt.xscale(\"log\")\n",
    "plt.xlabel('log(Period) [day]', size=20)\n",
    "plt.ylabel('Magnitude', size=20)\n",
    "plt.title('Leavitt Law', size=20)\n",
    "plt.ylim(22,16)\n",
    "plt.show()"
   ]
  },
  {
   "cell_type": "markdown",
   "metadata": {},
   "source": [
    "By fitting a line to the data in the diagram above (showing the Leavitt Law), the absolute magnitude (or luminosity) can be found. With the equation for a line y=ax+b, coefficient \"a\" is the slope of the line and coefficient \"b\" is the y value when x is zero. That y value is the absolute magnitude or luminosity of the variable star with a period of one day or log(0)=1. This value will be M1 in Question 3 below."
   ]
  },
  {
   "cell_type": "code",
   "execution_count": null,
   "metadata": {},
   "outputs": [],
   "source": [
    "def Linear(x, a, b):\n",
    "    return a*x + b \n",
    "\n",
    "params, params_covariance = optimize.curve_fit(Linear,\n",
    "                                               np.log10(per[cep['col4'] == 'FM']),\n",
    "                                               jmag[cep['col4'] == 'FM'],\n",
    "                                               p0=[-1,22])\n",
    "\n",
    "print(\"y = a*x + b, a=\", params[0], \" b=\", params[1])"
   ]
  },
  {
   "cell_type": "code",
   "execution_count": null,
   "metadata": {},
   "outputs": [],
   "source": [
    "ppp=np.linspace(1,100,100)\n",
    "#print p2\n",
    "\n",
    "plt.figure(figsize=(12, 8))\n",
    "plt.plot(np.log10(ppp), Linear(np.log10(ppp), params[0], params[1]), color='black', label='Fitted function')\n",
    "\n",
    "plt.plot(np.log10(per[cep['col4'] == 'FM']), jmag[cep['col4'] == 'FM'], 'm.')\n",
    "plt.plot(np.log10(per[cep['col4'] == 'FO']), jmag[cep['col4'] == 'FO'], 'y.')\n",
    "\n",
    "#plt.xscale(\"log\")\n",
    "plt.xlabel('log(Period) [day]', size=20)\n",
    "plt.ylabel('Brightness [Magnitude]', size=20)\n",
    "plt.title('Leavitt Law', size=20)\n",
    "plt.ylim(23,16)\n",
    "plt.xlim(0,2)\n",
    "plt.show()"
   ]
  },
  {
   "cell_type": "markdown",
   "metadata": {},
   "source": [
    "___"
   ]
  },
  {
   "cell_type": "markdown",
   "metadata": {},
   "source": [
    "## Question 3: Can you estimate the distance to the Andromeda galaxy?\n",
    "\n",
    "We can use the distance modulus to convert magnitude to distance:\n",
    "\n",
    "$M_1 - M_2 = 5 x log_{10}(d_1/d_2)$\n",
    "\n",
    "or in terms of distance ($d_1$):\n",
    "\n",
    "$d_1 = d_2 10^{(M_1 - M_2)/5}$\n",
    "\n",
    "To get d1, what value for M1 do you need to use from the Leavitt Law above?\n",
    "See previous paragraph before Question 3.\n",
    "\n",
    "Info you will need for M2 and d2: a 1-day period Cepheid has brightness of -2.1 magnitude at 10 pc.\n",
    "\n",
    "You can use Python as a calculator to determine the distance. Try it yourself using pow(base,exponent) for base^(exponent). Check your answer with the distance here: https://en.wikipedia.org/wiki/Andromeda_Galaxy"
   ]
  },
  {
   "cell_type": "code",
   "execution_count": null,
   "metadata": {},
   "outputs": [],
   "source": [
    "#Now fill in M1, M2, and d2 below to get d1\n",
    "M1 = 22.365165657\n",
    "M2 = -2.1\n",
    "d2 = 10\n",
    "\n",
    "d1 = d2 * pow(10,(M1-M2)/5.)\n",
    "\n",
    "print(\"Distance to Andromeda =\", d1)"
   ]
  },
  {
   "cell_type": "markdown",
   "metadata": {},
   "source": [
    "___"
   ]
  },
  {
   "cell_type": "markdown",
   "metadata": {},
   "source": [
    "## Bonus Question: Can you estimate the distance to Large Magellanic Cloud?"
   ]
  },
  {
   "cell_type": "code",
   "execution_count": null,
   "metadata": {},
   "outputs": [],
   "source": [
    "#read in data of LMC Cepheids\n",
    "cep=ascii.read('lmc.tab')\n",
    "per, jmag, hmag, typ = cep['col1'], cep['col2'], cep['col3'], cep['col4']\n",
    "\n",
    "plt.figure(figsize=(12, 8))\n",
    "plt.plot(np.log10(per[cep['col4'] == 'FM']), jmag[cep['col4'] == 'FM'], 'm.')\n",
    "\n",
    "#plt.xscale(\"log\")\n",
    "plt.xlabel('log(Period) [day]', size=20)\n",
    "plt.ylabel('Magnitude', size=20)\n",
    "plt.title('Leavitt Law', size=20)\n",
    "plt.ylim(16.5,9)\n",
    "plt.xlim(0.0,2)\n",
    "plt.show()"
   ]
  },
  {
   "cell_type": "code",
   "execution_count": null,
   "metadata": {},
   "outputs": [],
   "source": [
    "params, params_covariance = optimize.curve_fit(Linear, np.log10(per[cep['col4'] == 'FM']), jmag[cep['col4'] == 'FM'], p0=[-1,22])\n",
    "\n",
    "print(\"y = a*x + b, a=\", params[0], \" b=\", params[1])\n",
    "ppp=np.linspace(1,500,100)\n",
    "#print p2\n",
    "\n",
    "plt.figure(figsize=(12, 8))\n",
    "plt.plot(np.log10(ppp), Linear(np.log10(ppp), params[0], params[1]), color='black', label='Fitted function')\n",
    "\n",
    "plt.plot(np.log10(per[cep['col4'] == 'FM']), jmag[cep['col4'] == 'FM'], 'm.')\n",
    "\n",
    "#plt.xscale(\"log\")\n",
    "plt.xlabel('log(Period) [day]', size=20)\n",
    "plt.ylabel('Brightness [Magnitude]', size=20)\n",
    "plt.title('Leavitt Law', size=20)\n",
    "plt.ylim(16.5,9)\n",
    "plt.xlim(0,2)\n",
    "plt.show()\n"
   ]
  },
  {
   "cell_type": "code",
   "execution_count": null,
   "metadata": {},
   "outputs": [],
   "source": [
    "#Now fill in M1, M2, and d2 below to get d1\n",
    "M1 = 16.4114153606\n",
    "M2 = -2.1\n",
    "d2 = 10\n",
    "\n",
    "d1 = d2 * pow(10,(M1-M2)/5.)\n",
    "\n",
    "print(\"Distance to LMC =\", d1)"
   ]
  },
  {
   "cell_type": "markdown",
   "metadata": {},
   "source": [
    "___"
   ]
  }
 ],
 "metadata": {
  "kernelspec": {
   "display_name": "Python 3",
   "language": "python",
   "name": "python3"
  },
  "language_info": {
   "codemirror_mode": {
    "name": "ipython",
    "version": 3
   },
   "file_extension": ".py",
   "mimetype": "text/x-python",
   "name": "python",
   "nbconvert_exporter": "python",
   "pygments_lexer": "ipython3",
   "version": "3.6.5"
  }
 },
 "nbformat": 4,
 "nbformat_minor": 1
}
