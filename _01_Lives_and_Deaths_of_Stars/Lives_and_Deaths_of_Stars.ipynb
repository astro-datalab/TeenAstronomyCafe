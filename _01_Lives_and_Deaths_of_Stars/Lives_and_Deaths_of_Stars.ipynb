{
 "cells": [
  {
   "cell_type": "markdown",
   "metadata": {},
   "source": [
    "# <u>**The Lives and Deaths of Stars**</u>\n",
    "#### Written by Gautham Narayan, STScI \n",
    "\n",
    "\n",
    "\n",
    "<br>\n",
    "We talked about the lives of deaths and stars, but now it's time to play with real data, and see this story with your own eyes. This is interactive! You get to do anything you like with the data! DON'T WORRY! YOU WILL NOT BREAK ANYTHING! Want to try something? Just go right ahead! \n",
    "\n",
    "Want do know how to do something but aren't sure? Ask questions! \n"
   ]
  },
  {
   "cell_type": "markdown",
   "metadata": {},
   "source": [
    "## BEGIN HERE: How to use this notebook\n",
    "\n",
    "The webpage you are in is actually an app - much like you'd run on your cellphone. This add consists of cells. \n",
    "\n",
    "Each \"input\" cell (something with an \"In\") to the left contains code - instructions to make the computer do something.\n",
    "\n",
    "You can <u>**modify the code by typing into the cell**</u>\n",
    "\n",
    "You <u>**execute a cell with Shift+Enter**</u> on the keyboard - this makes the computer execute your instructions. That's what this app does! \n",
    "\n",
    "You can try it for yourself at https://try.jupyter.org/"
   ]
  },
  {
   "cell_type": "markdown",
   "metadata": {},
   "source": [
    "# <u>Activity 1: Graphing some data</u>"
   ]
  },
  {
   "cell_type": "markdown",
   "metadata": {},
   "source": [
    "In this activity, you'll take the first step towards become a computer programmer!\n",
    "One of the first things scientists want to do when they get data is to take a look at it - plot it on a graph! This activity is going to show you how to plot data."
   ]
  },
  {
   "cell_type": "code",
   "execution_count": null,
   "metadata": {},
   "outputs": [],
   "source": [
    "# Ignore this stuff - it is to setup the plotting envrionment in your browser\n",
    "# Just hit Shift + Enter here, and move on\n",
    "%matplotlib notebook\n",
    "%pylab"
   ]
  },
  {
   "cell_type": "markdown",
   "metadata": {},
   "source": [
    "## Step 1.1: Making a Scatter Plot"
   ]
  },
  {
   "cell_type": "code",
   "execution_count": null,
   "metadata": {
    "scrolled": false
   },
   "outputs": [],
   "source": [
    "# You don't need to use the same numbers, or indeed even these many - put in whatever you like for x & y.\n",
    "x = [11, 31, 2, -7, 4, -10, 6]\n",
    "y = [10, 21, 0, 9, 17, 13, 18]\n",
    "figure()\n",
    "scatter(x,y,marker='o',color='blue')\n",
    "xlabel('X')\n",
    "ylabel('Y')"
   ]
  },
  {
   "cell_type": "markdown",
   "metadata": {},
   "source": [
    "Scatter is the most basic plotting command, and plots a bunch of point - notice that there are blue dots on the X and Y locations you entered!\n",
    "## Step 1.2: Graphing a Function\n",
    "\n",
    "There are several other plotting commands - the one we'll use mostly is called \"plot\" "
   ]
  },
  {
   "cell_type": "code",
   "execution_count": null,
   "metadata": {},
   "outputs": [],
   "source": [
    "# What's nifty is that you can plot functions as well! \n",
    "# Want to know what x to the 3.5 power + 57 is? Compute and plot it!\n",
    "\n",
    "# this command creates a series of numbers from 0 to 20 increasing by 1 \n",
    "x = linspace(-90,90,20000)\n",
    "\n",
    "# if you want you can print it out with \n",
    "print(x) \n",
    "# You can just type in print x on a new line, and then hit shift + enter\n",
    "\n",
    "# You can now relate y to x with some function of the sort you've learned in school\n",
    "y = 3*x + 5.1  + 40*sin(x/10.) + 20*tan(x)\n",
    "\n",
    "# and now you can plot your data!\n",
    "figure()\n",
    "plot(x,y, marker='None', color='green', linestyle='-')\n",
    "xlabel('X')\n",
    "ylabel('Y')"
   ]
  },
  {
   "cell_type": "markdown",
   "metadata": {},
   "source": [
    "Nifty! We've gone from plotting a bunch of points to plotting something continious - a curve.\n",
    "\n",
    "You can plot all sorts of different curves - parabolas, sines and cosines or other trig functions, or whatever you can imagine really! Try it! You can create new cells below this one, by clicking it, then using the menu at the top - **Insert > Insert Cell Below**\n",
    "\n",
    "Type in your code for y based on x (you can even change x) and then **plot it with the plot command**, and **hit Shift + Enter** when you are ready!\n"
   ]
  },
  {
   "cell_type": "markdown",
   "metadata": {},
   "source": [
    "# <u>Activity 2: Graphing some real data from stars</u>\n",
    "\n",
    "Just like we plotted the data above, **we can now plot a spectrum of a star**!\n",
    "\n",
    "To do this, we are going to use data from the <a href=\"http://sdss.org\">**Sloan Digital Sky Survey (SDSS)**</a>. This project used a telescope at Apache Point in New Mexico to look at the northern sky.\n",
    "<figure>\n",
    "<center>\n",
    "<img src=\"https://apod.nasa.gov/apod/image/9806/sloan_fermilab_big.jpg\", width=300>\n",
    "<figcaption>The Sloan Telescope at Apache Point, New Mexico</figcaption>\n",
    "</center>\n",
    "</figure>\n",
    "\n",
    "It was the first \"Big Data\" project in astronomy. Sloan found millions of stars and galaxies, and made their data public. What we're going to do is start to play with SDSS data."
   ]
  },
  {
   "cell_type": "markdown",
   "metadata": {},
   "source": [
    "## Step 2.1: Selecting Spectra to Plot\n",
    "\n",
    "This page has spectra of different stars: \n",
    "http://classic.sdss.org/dr5/algorithms/spectemplates/\n",
    "\n",
    "Click it! \n",
    "\n",
    "Look at the gif links, and **look for \"Plate\", \"Fiber\" and \"MJD\"** and write them down on a piece of paper.\n",
    "\n",
    "Next, let's go look at the data for that star:\n",
    "http://cas.sdss.org/dr14/en/tools/explore/Summary.aspx\n",
    "\n",
    "**Click on \"Search\"** on the left hand side menu bar, and then **enter the \"Plate\", \"Fiber\" and \"MJD\"** that you wrote down there, and **hit \"Go\"**.\n",
    "\n",
    "If you click on the image, you can move around, zoom in and out - it's like Google Maps for the night sky!"
   ]
  },
  {
   "cell_type": "code",
   "execution_count": null,
   "metadata": {},
   "outputs": [],
   "source": [
    "# Again, you can ignore this stuff - it is to setup the plotting envrionment in your browser\n",
    "# Just hit Shift + Enter and move on.\n",
    "from astroML.datasets import fetch_sdss_spectrum, fetch_vega_spectrum, fetch_sdss_S82standards\n",
    "from astroML.plotting import MultiAxes\n",
    "from IPython.core.display import Image, display"
   ]
  },
  {
   "cell_type": "markdown",
   "metadata": {},
   "source": [
    "## Step 2.2 Plotting your First Spectrum\n",
    "\n",
    "Take the same **Plate, Fiber and MJD** numbers from earlier and enter them into the code below - make sure they match!\n",
    "\n",
    "Then run the cell with Shift + Enter!"
   ]
  },
  {
   "cell_type": "code",
   "execution_count": null,
   "metadata": {},
   "outputs": [],
   "source": [
    "# Fetch single spectrum - Enter the same \"Plate\", \"MJD\" and \"Fiber\" numbers here\n",
    "# Then hit Shift+Enter\n",
    "plate = 300\n",
    "mjd = 51666\n",
    "fiber = 128\n",
    "spec = fetch_sdss_spectrum(plate, mjd, fiber)\n",
    "\n",
    "# now, just as before, we can plot the data\n",
    "figure()\n",
    "plot(spec.wavelength(), spec.spectrum/spec.spectrum.max(), color='black')\n",
    "xlabel('Wavelength')\n",
    "ylabel('Brightness')"
   ]
  },
  {
   "cell_type": "markdown",
   "metadata": {},
   "source": [
    "**That's the same spectrum on the webpage!**\n",
    "\n",
    "What you did was **pull data from the web into your app**.\n",
    "Now you can **run whatever code you like on the data**!\n",
    "\n",
    "This is a key element of **data analysis**. \n",
    "\n",
    "Let's zoom in on the part of the spectrum we can see with our eyes - \"VIBGYOR\" about 4000---7000 Angstroms - or 10^-10 meters (0. followed by nine zeros and then a 1 - really small!!!)"
   ]
  },
  {
   "cell_type": "code",
   "execution_count": null,
   "metadata": {},
   "outputs": [],
   "source": [
    "#Lets look at the range where our eyes can see\n",
    "figure()\n",
    "plot(spec.wavelength(), spec.spectrum/spec.spectrum.max(), color='black')\n",
    "xlabel('Wavelength')\n",
    "ylabel('Brightness')\n",
    "xlim(4000,7000)\n",
    "ylim(0, 1.2)"
   ]
  },
  {
   "cell_type": "markdown",
   "metadata": {},
   "source": [
    "See those dips - those are the absorption lines we talked about! They are the **chemical fingerprint of a star**. \n",
    "\n",
    "This star has **lines from Hydrogen and Helium**, the first and second elements on the periodic table, and the two **most common elements in the entire Universe**.\n",
    "\n",
    "You can also tell something about the star from its spectrum. It's **higher on the left** (at lower wavelengths) than the right (at higher wavelengths).\n",
    "\n",
    "The low end of this wavelength range (4000 Angstroms) is what our eyes percieve as blue - or simply, **this star will look blue**!\n",
    "\n",
    "## Step 2.3: Plotting a Second Spectrum\n",
    "\n",
    "Not all stars look the same - **pick another star from the page**, get its **\"Fiber\", \"Plate\" and \"MJD\"** and let us plot that too."
   ]
  },
  {
   "cell_type": "code",
   "execution_count": null,
   "metadata": {},
   "outputs": [],
   "source": [
    "# Fetch a second spectrum \n",
    "plate2 = 273\n",
    "mjd2 = 51957\n",
    "fiber2 = 304\n",
    "spec2 = fetch_sdss_spectrum(plate2, mjd2, fiber2)\n",
    "figure()\n",
    "plot(spec.wavelength(), spec.spectrum/spec.spectrum.max(), color='black')\n",
    "plot(spec2.wavelength(), spec2.spectrum/spec2.spectrum.max(), color='red')\n",
    "xlabel('Wavelength')\n",
    "ylabel('Brightness')\n",
    "xlim(4000,7000)\n",
    "ylim(0, 1.2)"
   ]
  },
  {
   "cell_type": "markdown",
   "metadata": {},
   "source": [
    "Notice it has some of the same absorption lines in the same places as the other star, but they are deeper - it has relatively more of that element. \n",
    "\n",
    "But that isn't all! This star, plotted in red, is **lower on the left (blue) side** than the right (red) side - it'll look red! \n",
    "\n",
    "Remember from the H-R diagram, the **color of stars is related to their temperature** - the redder star is cooler than the hot blue star! \n",
    "\n",
    "<b>If you can figure out the color of stars, you can figure out their temperature, their mass and their size.</b>\n",
    "\n",
    "<center>\n",
    "<figure>\n",
    "<img src=\"http://astro.ib-host.net/pics/HR-diagram.jpg\", width=600>\n",
    "<figcaption>The H-R diagram again</figcaption>\n",
    "</figure>\n",
    "</center>\n",
    "\n",
    "## Step 2.4 - Plot the spectrum of Vega (in the middle of the upper plot), and see what this star looks like"
   ]
  },
  {
   "cell_type": "code",
   "execution_count": null,
   "metadata": {},
   "outputs": [],
   "source": [
    "# Fetch a third spectrum\n",
    "spec3 = fetch_vega_spectrum()\n",
    "figure()\n",
    "plot(spec3[0], spec3[1]/spec3[1].max(), color='blue')\n",
    "plot(spec.wavelength(), spec.spectrum/spec.spectrum.max(), color='black')\n",
    "plot(spec2.wavelength(), spec2.spectrum/spec2.spectrum.max(), color='red')\n",
    "xlabel('Wavelength')\n",
    "ylabel('Brightness')\n",
    "xlim(4000,7000)\n",
    "ylim(0, 1.2)"
   ]
  },
  {
   "cell_type": "markdown",
   "metadata": {},
   "source": [
    "This third star plotted in blue, is Vega - one of the brightest stars in the sky.\n",
    "\n",
    "It's one of the three stars that make up the Summer Triangle \n",
    "<center>\n",
    "<figure>\n",
    "<img src=\"http://astropixels.com/milkyway/wide/images/MilkyWay12-501w.jpg\">\n",
    "<figcaption>\n",
    "The three bright stars of the Summer Triangle with our galaxy, the Milky Way, behind. Each of those specs of light is a star! There are some hundred billion stars in our Galaxy alone!\n",
    "</figcaption>\n",
    "</figure>\n",
    "</center>\n",
    "\n",
    "Even here you can see that stars have a range of colors - or really temperatures.\n",
    "\n",
    "Remember that the stars need fuel to resist the crushing pull of gravity. While stars burn Hydrogen and produce Helium in their core, they are said to be on **The Main Sequence**.\n",
    "\n",
    "You could scroll up and look at that figure again... OR **we can just plot the main sequence from data ourselves**!"
   ]
  },
  {
   "cell_type": "markdown",
   "metadata": {},
   "source": [
    "# <u>Activity 3: Plotting the Main Sequence</u>\n",
    "\n",
    "Now that we've seen that spectra of stars  are different, lets compare the brightness and colors of a lot of different stars.\n",
    "\n",
    "## Step 3.1: Entering the data from some stars\n",
    "This is just like Activity 1, except instead of calling it 'X' and 'Y', I'm calling it \"color\" and \"brightness\"\n",
    "\n",
    "I've already entered the data below - all you have to do is **hit Shift + Enter**"
   ]
  },
  {
   "cell_type": "code",
   "execution_count": null,
   "metadata": {},
   "outputs": [],
   "source": [
    "# First, lets take some data that I've entered directly from the SDSS\n",
    "star = ['Sun', 'Sirius', 'Canopus', 'Arcturus', 'AlphaCen', 'Vega','Capella', 'Rigel', 'Procyon', 'Betelgeuse', 'Achernar','Hadar', 'Acrux', 'Altair', 'Aldebaran', 'Antares', 'Spica', 'Pollux', 'Formalhaut', 'Becrux', 'Deneb', 'Regulus', 'Adhara','Shaula', 'Gacrux', 'Castor']\n",
    "apparent_brightness = [-26.8, -1.46, -0.72, -0.04, -0.01, 0.0, 0.08, 0.12, 0.38, 0.41, 0.46, 0.63, 0.76, 0.77, 0.85, 0.92, 1.0, 1.14, 1.16, 1.2, 1.25, 1.35, 1.5, 1.6, 1.63, 1.98]\n",
    "brightness = [4.8, 1.4, -2.5, 0.2, 4.4, 0.6, 0.4, -8.1, 2.6, -7.2, -1.3, -4.4, -4.6, 2.3, -0.3, -5.2, -3.2, 0.7, 2.0, -4.7, -7.2, -0.3, -4.8, -3.5, -1.2, 0.5]\n",
    "color = [0.63, 0.0, 0.15, 1.23, 0.71, 0.0, 0.08, -0.03, 0.42, 1.85, -0.16, -0.23, -0.24, 0.22, 1.54, 1.83, -0.23, 1.0, 0.09, -0.23, 0.09, -0.11, -0.21, -0.22, 1.59, 0.03]"
   ]
  },
  {
   "cell_type": "markdown",
   "metadata": {},
   "source": [
    "## Step 3.2: Plot the star data up\n",
    "\n",
    "Lets plot the data we entered in the last two cells with the scatter command we used in Activity 1.\n"
   ]
  },
  {
   "cell_type": "code",
   "execution_count": null,
   "metadata": {},
   "outputs": [],
   "source": [
    "# We'll use the size property 's' to scale the points by the brightness\n",
    "figure()\n",
    "cmap = cm.ScalarMappable(cmap='jet')\n",
    "colors=cmap.to_rgba(arctan(array(color)))\n",
    "scatter(color,brightness, marker='*', color=colors, s=10 + 10**(-0.4*array(brightness)))\n",
    "\n",
    "## if you want to see which star is which, remove the '#' in front of the next two lines\n",
    "\n",
    "for i, name in enumerate(star):\n",
    "    annotate(name,(color[i],brightness[i]))\n",
    "\n",
    "xlabel('Color')\n",
    "ylabel('Brightness')\n",
    "suptitle('Main Sequence of the Brightest Stars')\n",
    "\n",
    "# Brightness is a little weird - remember that smaller numbers mean that the star is brighter \n",
    "# It's a little like the Top 100 charts - a ranked list\n",
    "# With the smaller the number being the higher rank\n",
    "plt.gca().invert_xaxis()\n",
    "plt.gca().invert_yaxis()"
   ]
  },
  {
   "cell_type": "markdown",
   "metadata": {},
   "source": [
    "\n",
    "## Step 3.3: Get a sense for the sizes and colors of these stars\n",
    "\n",
    "The stars on the left hand side like Betelgeuse and Antares, are red giant stars - nearing the end of their lives\n",
    "\n",
    "<center>\n",
    "<figure>\n",
    "<img src=\"https://upload.wikimedia.org/wikipedia/commons/4/47/Orion_Head_to_Toe.jpg\">\n",
    "<figcaption>\n",
    "Betelgeuse is in the constellation Orion - and you can easily see it rise over Tucson at night. If you look carefully, you'll be able to tell it's a different color with just your own eyes.\n",
    "</figcaption>\n",
    "</figure>\n",
    "</center>\n",
    "\n",
    "Remember, different stars also have different sizes - **compare the size of Betelgeuse to the Sun by scrolling from left to right on the image below**."
   ]
  },
  {
   "cell_type": "code",
   "execution_count": null,
   "metadata": {},
   "outputs": [],
   "source": [
    "display(Image('star_sizes_small.jpg', width=4000, unconfined=True))"
   ]
  },
  {
   "cell_type": "markdown",
   "metadata": {},
   "source": [
    "\n"
   ]
  },
  {
   "cell_type": "markdown",
   "metadata": {
    "collapsed": true
   },
   "source": [
    "# <u>Activity 4: Looking at the Life Cycles of Stars </u>\n",
    "\n",
    "We've taken a look at different stellar spectra, and put them on context with each other with the Main Sequence. Stars may look like they are always the same to us, but they're always changing.\n",
    "\n",
    "As a star runs out of fuel, it is no longer able to withstand the force of gravity and begins to die. Stars die in several different ways. Some end their lives as white dwarfs, slowly cooling in space. The most massive stars end their lives as nuetron stars, and black holes. Many stars however, die by exploding spectacularly. These are supernovae! \n",
    "\n",
    "Use the <a href=\"http://starinabox.lco.global/\">Star in a box</a> to see how stars with different masses live and die!\n"
   ]
  }
 ],
 "metadata": {
  "anaconda-cloud": {},
  "kernelspec": {
   "display_name": "Python 3",
   "language": "python",
   "name": "python3"
  },
  "language_info": {
   "codemirror_mode": {
    "name": "ipython",
    "version": 3
   },
   "file_extension": ".py",
   "mimetype": "text/x-python",
   "name": "python",
   "nbconvert_exporter": "python",
   "pygments_lexer": "ipython3",
   "version": "3.6.5"
  }
 },
 "nbformat": 4,
 "nbformat_minor": 2
}
