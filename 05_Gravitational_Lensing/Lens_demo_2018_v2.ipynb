{
 "cells": [
  {
   "cell_type": "markdown",
   "metadata": {},
   "source": [
    "<br>\n",
    "<br>\n",
    "<font size='6'><u><b>Gravitational Lensing</b></u></font>\n",
    "<br>\n",
    "\n",
    "##### Written by A. Bolton, 2017\n",
    "\n",
    "##### Updated 2018: Elliot Kisiel and Connie Walker\n",
    "\n",
    "You have learned about how we can measure the mass of a galaxy based on the gravitational lensing of a foreground galaxy. This lensing effect can be seen in the various images below. In this activity we will be walking through some of the steps that astronomers use to determine the mass of a galaxy by examining the lensing effects.\n",
    "\n",
    "<img src=\"SloanLensACS_Survey.pdf\" width=\"900\" height=\"10800\">\n",
    "\n",
    "___"
   ]
  },
  {
   "cell_type": "markdown",
   "metadata": {},
   "source": [
    "# Table of Contents\n",
    "\n",
    "* [How to Use This Notebook](#How-to-Use-This-Notebook)\n",
    "* [Pre-Activity Setup](#Pre-Activity-Setup)\n",
    "* [Activity 1: ](#Activity-1:-)\n",
    "    * [Part 1.1: ](#Part-1.1:-)\n",
    "___"
   ]
  },
  {
   "cell_type": "markdown",
   "metadata": {},
   "source": [
    "# How to Use This Notebook\n",
    "\n",
    "The webpage you are in is actually an app - much like the ones on your cellphone. This app consists of cells.\n",
    "\n",
    "An *input* cell looks like a light grey box with an `In [ ]:` on its left. Input cells each contain code - instructions to make the computer do something.\n",
    "\n",
    "To activate or select a cell, click anywhere inside of it.\n",
    "\n",
    "<div class='alert alert-info'>\n",
    "    <font size='3'><b>Select the cell below and read its contents.</b></font>\n",
    "</div>"
   ]
  },
  {
   "cell_type": "code",
   "execution_count": null,
   "metadata": {},
   "outputs": [],
   "source": [
    "# Text that follows a \"#\" is known as a comment.\n",
    "# Comments do not affect your code in any way.\n",
    "# You should always read the comments at the top of each cell you interact with.\n",
    "# Comments will be used to describe what the cell's code is actually doing."
   ]
  },
  {
   "cell_type": "markdown",
   "metadata": {},
   "source": [
    "To execute or run a selected cell, hit `[Shift + Enter]` on your keyboard.\n",
    "\n",
    "<div class='alert alert-info'>\n",
    "    <font size='3'><b>Select the cell below and read its contents. Then, run the cell.</b></font>\n",
    "</div>"
   ]
  },
  {
   "cell_type": "code",
   "execution_count": null,
   "metadata": {},
   "outputs": [],
   "source": [
    "# Text that DOESN'T follow a \"#\" is considered code.\n",
    "# Lines of code are instructions given to your computer.\n",
    "# The line of code below is a \"print\" statement.\n",
    "# A print statement literally prints out the text between its quotes.\n",
    "\n",
    "print(\"Congrats! You have successfully run your first cell!\")"
   ]
  },
  {
   "cell_type": "markdown",
   "metadata": {},
   "source": [
    "Running a cell creates an *output* directly below it. An output can be some text, a graph, an interactive slider, or even nothing at all! For that last case, you know you have run a cell when the `In [ ]:` becomes `In [#]:`, where \"#\" is any number.\n",
    "\n",
    "You can learn more about how Jupyter notebooks work at https://try.jupyter.org/\n",
    "___"
   ]
  },
  {
   "cell_type": "markdown",
   "metadata": {},
   "source": [
    "# Pre-Activity Setup\n",
    "\n",
    "In order for any of the activities to work properly, you must import the libraries needed for the code in this notebook.\n",
    "\n",
    "<div class='alert alert-info'>\n",
    "    <font size='3'><b>Select and run the cell below.</b></font>\n",
    "</div>"
   ]
  },
  {
   "cell_type": "code",
   "execution_count": null,
   "metadata": {},
   "outputs": [],
   "source": [
    "# Import necessary modules:\n",
    "import numpy as n\n",
    "%matplotlib notebook\n",
    "import matplotlib as m\n",
    "m.interactive(True)\n",
    "from matplotlib import pyplot as p\n",
    "from matplotlib import cm\n",
    "import lensdemo_funcs as ldf"
   ]
  },
  {
   "cell_type": "markdown",
   "metadata": {},
   "source": [
    "___"
   ]
  },
  {
   "cell_type": "markdown",
   "metadata": {},
   "source": [
    "### Programming side note\n",
    "\n",
    "The previous cell is a way of importing the necessary functions and other stuff to allow us to make pictures and do math super easy. In the next cell, we will be using a dictionary to easily group things together. Like how in a normal dictionary there is a word and a definition, this dictionary acts in a similar manner but instead of a word, we call it a key and instead of a definition we call it a value.\n",
    "\n",
    "```python\n",
    "dictionary = {key1 : value1, key2 : value2 ...}\n",
    "```"
   ]
  },
  {
   "cell_type": "code",
   "execution_count": null,
   "metadata": {},
   "outputs": [],
   "source": [
    "# Package some image display preferences in a \"dictionary object\", for use below:\n",
    "myargs = {'interpolation': 'nearest', 'origin': 'lower', 'cmap': cm.nipy_spectral}\n",
    "# The following specifies an alternate color map, which some may find preferable.\n",
    "# Un-comment and execute the following line if you want to use it:\n",
    "# myargs = {'interpolation': 'nearest', 'origin': 'lower', 'cmap': cm.hot}"
   ]
  },
  {
   "cell_type": "markdown",
   "metadata": {},
   "source": [
    "## Exercise 1\n",
    "\n",
    "In this exercise you will be playing around with the different parameters of a distant galaxy, we will name this galaxy Pat. This will be the galaxy that will eventually be lensed. What would you expect a very distant galaxy to look like? Would it be shaped like a spiral? A point? Some sort of smear? Think about this and then discuss with a person near you. <br><br>\n",
    "Once you have thought about that, we will start to set up some of the parameters below to get an image of what Pat is going to look like. First run the program as it is set up. Then tweak the parameters until Pat looks how you want it. Our recommendation is to tweak one parameter (e.g. g_sig, g_amp, g_axrat, etc.) at a time to see when you run the program how that parameter changes Pat. Try this a few times. Talk to person next to you and describe one or two way in which Pat looks different.\n",
    "\n",
    "### gpar = [g_amp, g_sig, g_xcen, g_ycen, g_axrat, g_pa]\n",
    "\n",
    "Where the parameters are defined as:\n",
    "\n",
    "g_amp is the peak brightness value<br>\n",
    "g_sig is how spread out Pat is<br>\n",
    "g_xcen is the x position of the center of Pat<br>\n",
    "g_ycen is the y position of the center of Pat<br>\n",
    "g_axrat is the minor-to-major axis ratio<br>\n",
    "g_pa is the major-axis position angle (degrees) c.c.w. from x axis<br>\n",
    "\n",
    "Each of the parameters has the recommended ranges in values below:\n",
    "\n",
    "0 <= g_amp <= 10.0<br>\n",
    "0 <= g_sig <= 0.5<br>\n",
    "0 <= g_xcen <= 1.0<br>\n",
    "0 <= g_ycen <= 1.0<br>\n",
    "0 <= g_axrat <= 1.0<br>\n",
    "0 <= g_pa <= 180.0<br>"
   ]
  },
  {
   "cell_type": "code",
   "execution_count": null,
   "metadata": {},
   "outputs": [],
   "source": [
    "# Set some parameters to make x and y coordinate images:\n",
    "nx = 501\n",
    "ny = 501\n",
    "xhilo = [-2.5, 2.5]\n",
    "yhilo = [-2.5, 2.5]\n",
    "x = (xhilo[1] - xhilo[0]) * n.outer(n.ones(ny), n.arange(nx)) / float(nx-1) + xhilo[0]\n",
    "y = (yhilo[1] - yhilo[0]) * n.outer(n.arange(ny), n.ones(nx)) / float(ny-1) + yhilo[0]"
   ]
  },
  {
   "cell_type": "code",
   "execution_count": null,
   "metadata": {},
   "outputs": [],
   "source": [
    "# Set some Pat image parameters and pack them into an array:\n",
    "g_amp = 0.1   # peak brightness value\n",
    "g_sig = 0.1 # how spread out Pat is\n",
    "g_xcen = 0.0 # x position of center\n",
    "g_ycen = 0.0  # y position of center\n",
    "g_axrat = 1.0# minor-to-major axis ratio\n",
    "g_pa = 107    # major-axis position angle (degrees) c.c.w. from x axis\n",
    "gpar = n.asarray([g_amp, g_sig, g_xcen, g_ycen, g_axrat, g_pa])"
   ]
  },
  {
   "cell_type": "code",
   "execution_count": null,
   "metadata": {},
   "outputs": [],
   "source": [
    "# Have a look at the un-lensed Pat:\n",
    "g_image = ldf.gauss_2d(x, y, gpar)\n",
    "p.figure()\n",
    "f = p.imshow(g_image, **myargs)"
   ]
  },
  {
   "cell_type": "markdown",
   "metadata": {},
   "source": [
    "## Exercise 2\n",
    "\n",
    "Now that we have Pat, it is time to add a very massive, closer galaxy; we will name this one Chris. Scientists call Chris the lensing galaxy and Pat the lensed galaxy. The most important parameter for Chris is the Einstein radius. Knowing this parameter allows scientist to predict the mass of Chris, the lensing galaxy. We will be using Pat as our distant galaxy and tweak the parameters of Chris to see how each of the parameters changes what Pat looks like to us. First run the program as it is set up. Then tweak one parameter (e.g. $l_{amp}$, $l_{axrat}$, etc.) at a time to see when you run the program how that parameter changes Pat. Try this a few times. Talk to person next to you and describe one or two way in which Pat looks different.<br>\n",
    "\n",
    "You may be wondering what exactly the Einstein radius is. If you are curious, we will explain it at the end of the activity. \n",
    "\n",
    "### $lpar = [l_{amp}, l_{xcen}, l_{ycen}, l_{axrat}, l_{pa}]$\n",
    "\n",
    "Where the parameters are defined as:\n",
    "\n",
    "l_amp is the Einstein radius of Chris<br>\n",
    "l_xcen is the x position of the center of Chris<br>\n",
    "l_ycen is the y position of the center of Chris<br>\n",
    "l_axrat is the minor-to-major axis ratio<br>\n",
    "l_pa is the major-axis position angle (degrees) c.c.w. from x axis<br>\n",
    "\n",
    "Each of the parameters has the recommended ranges in values below:\n",
    "\n",
    "$0 \\le l_{amp} \\le 2$\n",
    "\n",
    "$0 \\le l_{xcen} \\le 1$\n",
    "\n",
    "$0 \\le l_{ycen} \\le 1$\n",
    "\n",
    "$0.1 \\le l_{axrat} \\le 20$\n",
    "\n",
    "$0 \\le l_{pa} \\le 180$"
   ]
  },
  {
   "cell_type": "code",
   "execution_count": null,
   "metadata": {},
   "outputs": [],
   "source": [
    "# Set some lens-model parameters and pack them into an array:\n",
    "l_amp = 0.4 # Einstein radius\n",
    "l_xcen = 0  # x position of center\n",
    "l_ycen = 0 # y position of center\n",
    "l_axrat = 0.7 # minor-to-major axis ratio\n",
    "l_pa = 0.0    # major-axis position angle (degrees) c.c.w. from x axis\n",
    "lpar = n.asarray([l_amp, l_xcen, l_ycen, l_axrat, l_pa])"
   ]
  },
  {
   "cell_type": "code",
   "execution_count": null,
   "metadata": {},
   "outputs": [],
   "source": [
    "# Compute the lensing effects, ...\n",
    "(xg, yg) = ldf.sie_grad(x, y, lpar)\n",
    "# ... evaluate the lensed Pat image, ...\n",
    "g_lensimage = ldf.gauss_2d(x-xg, y-yg, gpar)\n",
    "# ... and have a look at it:\n",
    "p.figure()\n",
    "f = p.imshow(g_lensimage, **myargs)"
   ]
  },
  {
   "cell_type": "markdown",
   "metadata": {},
   "source": [
    "## Recap\n",
    "\n",
    "   ### What does tweaking each parameter do? \n",
    "   ### Experiment by choosing one parameter above and changing the value."
   ]
  },
  {
   "cell_type": "markdown",
   "metadata": {},
   "source": [
    "## Exercise 3\n",
    "\n",
    "Now that we have tweaked the parameters for both Pat and Chris individually, what happens if we change the parameters of both at the same time? In the following cells, the left image is Pat before it is lensed and the right image is Pat after its light has been bent by Chris and therefore lensed. It is important to note here that we are not displaying Chris. \n",
    "\n",
    "<img src=\"Lensed_Galaxy_Components_v2.pdf\" width=\"800\" height=\"600\"><br>\n",
    "\n",
    "For your convenience, the parameters are defined again below:<br>\n",
    "\n",
    "### gpar = [g_amp, g_sig, g_xcen, g_ycen, g_axrat, g_pa]\n",
    "\n",
    "Where the parameters are defined as:\n",
    "\n",
    "g_amp is the peak brightness value<br>\n",
    "g_sig is how spread out Pat is<br>\n",
    "g_xcen is the x position of the center of Pat<br>\n",
    "g_ycen is the y position of the center of Pat<br>\n",
    "g_axrat is the minor-to-major axis ratio<br>\n",
    "g_pa is the major-axis position angle (degrees) c.c.w. from x axis<br>\n",
    "\n",
    "### lpar = [l_amp, l_xcen, l_ycen, l_axrat, l_pa]\n",
    "\n",
    "Where the parameters are defined as:\n",
    "\n",
    "l_amp is the Einstein radius of Chris<br>\n",
    "l_xcen is the x position of the center of Chris<br>\n",
    "l_ycen is the y position of the center of Chris<br>\n",
    "l_axrat is the minor-to-major axis ratio<br>\n",
    "l_pa is the major-axis position angle (degrees) c.c.w. from x axis<br>\n",
    "\n",
    "## Instructions\n",
    "\n",
    "You should have a post-it note on the upper left side of your iMac with a number on it. If you do not raise your hand now. Using the five cells below, try to reproduce the image corresponding to the number on your post-it note. As a hint all of these have the same l_amp = 1.5, l_xcen = 0.0, l_ycen = 0.0, l_pa = 0.0 and have different l_axrat between 0.01 and 20. Finally, the range of values for Pat (the unlensed galaxy) are given by:\n",
    "\n",
    "\n",
    "0 <= g_amp <= 10.0<br>\n",
    "0 <= g_sig <= 0.5<br>\n",
    "0 <= g_xcen <= 1.0<br>\n",
    "0 <= g_ycen <= 1.0<br>\n",
    "0 <= g_axrat <= 1.0<br>\n",
    "0 <= g_pa <= 180.0<br>\n",
    "\n",
    "Some helpful advice is to use the 5 cells as a means of tracking your progress. If you find an optimum scenario for one parameter, you can leave it as a reference and use another cell.\n",
    "\n",
    "<img src=\"lens_image_mosaic_v2.png\">"
   ]
  },
  {
   "cell_type": "code",
   "execution_count": null,
   "metadata": {},
   "outputs": [],
   "source": [
    "# The following lines will plot the un-lensed and lensed images side by side:\n",
    "gpar1 = n.asarray([0.7, 0.05, 0.7, 0.0, 1.0, 0.0])\n",
    "lpar1 = n.asarray([1.5, 0.7, 0.0, 1.0, 0.7])\n",
    "g_image1 = ldf.gauss_2d(x, y, gpar1)\n",
    "(xg1, yg1) = ldf.sie_grad(x, y, lpar1)\n",
    "g_lensimage1 = ldf.gauss_2d(x-xg1, y-yg1, gpar1)\n",
    "p.figure()\n",
    "f = p.imshow(n.hstack((g_image1, g_lensimage1)), **myargs)"
   ]
  },
  {
   "cell_type": "code",
   "execution_count": null,
   "metadata": {},
   "outputs": [],
   "source": [
    "# The following lines will plot the un-lensed and lensed images side by side:\n",
    "gpar1 = n.asarray([1.0, .2, 01.0, 1.0  , 1.0, 0.0])\n",
    "lpar1 = n.asarray([1.0, 0.7, 0.7, 1.0, 0.0])\n",
    "g_image1 = ldf.gauss_2d(x, y, gpar1)\n",
    "(xg1, yg1) = ldf.sie_grad(x, y, lpar1)\n",
    "g_lensimage1 = ldf.gauss_2d(x-xg1, y-yg1, gpar1)\n",
    "p.figure()\n",
    "f = p.imshow(n.hstack((g_image1, g_lensimage1)), **myargs)"
   ]
  },
  {
   "cell_type": "code",
   "execution_count": null,
   "metadata": {},
   "outputs": [],
   "source": [
    "# The following lines will plot the un-lensed and lensed images side by side:\n",
    "gpar1 = n.asarray([1.0, 0.087, 0.0, 0.0, 1.0, 0.0])\n",
    "lpar1 = n.asarray([1.5, 0.777, 0.0, 0.8, 0.0])\n",
    "g_image1 = ldf.gauss_2d(x, y, gpar1)\n",
    "(xg1, yg1) = ldf.sie_grad(x, y, lpar1)\n",
    "g_lensimage1 = ldf.gauss_2d(x-xg1, y-yg1, gpar1)\n",
    "p.figure()\n",
    "f = p.imshow(n.hstack((g_image1, g_lensimage1)), **myargs)"
   ]
  },
  {
   "cell_type": "code",
   "execution_count": null,
   "metadata": {},
   "outputs": [],
   "source": [
    "# The following lines will plot the un-lensed and lensed images side by side:\n",
    "gpar1 = n.asarray([0.7, 0.7, 0.7, 0.7, 0.7, 0.7])\n",
    "lpar1 = n.asarray([0.7, 0.7, 0.7, 0.7, 0.7])\n",
    "g_image1 = ldf.gauss_2d(x, y, gpar1)\n",
    "(xg1, yg1) = ldf.sie_grad(x, y, lpar1)\n",
    "g_lensimage1 = ldf.gauss_2d(x-xg1, y-yg1, gpar1)\n",
    "p.figure()\n",
    "f = p.imshow(n.hstack((g_image1, g_lensimage1)), **myargs)"
   ]
  },
  {
   "cell_type": "code",
   "execution_count": null,
   "metadata": {},
   "outputs": [],
   "source": [
    "# The following lines will plot the un-lensed and lensed images side by side:\n",
    "gpar1 = n.asarray([1.0, 0.05, 0.0, 0.0, 1.0, 0.0])\n",
    "lpar1 = n.asarray([1.5, 0.0, 0.0, 1.0, 0.0])\n",
    "g_image1 = ldf.gauss_2d(x, y, gpar1)\n",
    "(xg1, yg1) = ldf.sie_grad(x, y, lpar1)\n",
    "g_lensimage1 = ldf.gauss_2d(x-xg1, y-yg1, gpar1)\n",
    "p.figure()\n",
    "f = p.imshow(n.hstack((g_image1, g_lensimage1)), **myargs)"
   ]
  },
  {
   "cell_type": "markdown",
   "metadata": {
    "collapsed": true
   },
   "source": [
    "## Challenge\n",
    "\n",
    "Now that you have successfully remade one of the above images, it is time to try it with some real lensed galaxies. Below are several real galaxies from the presentation. Your goal is to choose one galaxy below and try to adjust the parameters to match the image (the lensed galaxy). Good luck! As a note, it may be a useful visual effect to change the value of the key 'cmap' in the first cell below to something like cm.magma, cm.inferno, cm.hot or cm.Blues<br>\n",
    "\n",
    "For your convenience, the parameters are defined again below:<br>\n",
    "\n",
    "### gpar = [g_amp, g_sig, g_xcen, g_ycen, g_axrat, g_pa]\n",
    "\n",
    "Where the parameters are defined as:\n",
    "\n",
    "g_amp is the peak brightness value<br>\n",
    "g_sig is how spread out Pat is<br>\n",
    "g_xcen is the x position of the center of Pat<br>\n",
    "g_ycen is the y position of the center of Pat<br>\n",
    "g_axrat is the minor-to-major axis ratio<br>\n",
    "g_pa is the major-axis position angle (degrees) c.c.w. from x axis<br>\n",
    "\n",
    "### lpar = [l_amp, l_xcen, l_ycen, l_axrat, l_pa]\n",
    "\n",
    "Where the parameters are defined as:\n",
    "\n",
    "l_amp is the Einstein radius of Chris<br>\n",
    "l_xcen is the x position of the center of Chris<br>\n",
    "l_ycen is the y position of the center of Chris<br>\n",
    "l_axrat is the minor-to-major axis ratio<br>\n",
    "l_pa is the major-axis position angle (degrees) c.c.w. from x axis<br>\n",
    "\n",
    "The values shoul be between the given ranges.\n",
    "\n",
    "0 <= l_amp <= 10.0<br>\n",
    "0 <= l_xcen <= 1.0<br>\n",
    "0 <= l_ycen <= 1.0<br>\n",
    "0 <= l_axrat <= 1.0<br>\n",
    "0 <= l_pa <= 180.0<br>\n",
    "\n",
    "Some helpful advice is to use the 5 cells as a means of tracking your progress. If you find an optimum scenario for one parameter, you can leave it as a reference and use another cell.\n",
    "\n",
    "<img src=\"Lensed_Galaxy_Components_v2.pdf\" width=\"800\" height=\"600\"><br><br>\n",
    "\n",
    "<img src = \"real_galaxies.png\">"
   ]
  },
  {
   "cell_type": "code",
   "execution_count": null,
   "metadata": {},
   "outputs": [],
   "source": [
    "#You can change the last one to change the color of the map\n",
    "myargs = {'interpolation': 'nearest', 'origin': 'lower', 'cmap': cm.Blues}"
   ]
  },
  {
   "cell_type": "code",
   "execution_count": null,
   "metadata": {},
   "outputs": [],
   "source": [
    "# The following lines will plot the un-lensed and lensed images side by side:\n",
    "gpar1 = n.asarray([0.4, 0.9, 0.6, 0.4, 0.8, 1.0])\n",
    "lpar1 = n.asarray([0.8, 0.7, 0.6, 0.8, 0.7])\n",
    "g_image1 = ldf.gauss_2d(x, y, gpar1)\n",
    "(xg1, yg1) = ldf.sie_grad(x, y, lpar1)\n",
    "g_lensimage1 = ldf.gauss_2d(x-xg1, y-yg1, gpar1)\n",
    "p.figure()\n",
    "f = p.imshow(n.hstack((g_image1, g_lensimage1)), **myargs)"
   ]
  },
  {
   "cell_type": "code",
   "execution_count": null,
   "metadata": {},
   "outputs": [],
   "source": [
    "# The following lines will plot the un-lensed and lensed images side by side:\n",
    "gpar1 = n.asarray([1.0, 0.05, 0.0, .0, 1.0, 0.0])\n",
    "lpar1 = n.asarray([1.5, 0.0, 0.0, 1.0, 0.0])\n",
    "g_image1 = ldf.gauss_2d(x, y, gpar1)\n",
    "(xg1, yg1) = ldf.sie_grad(x, y, lpar1)\n",
    "g_lensimage1 = ldf.gauss_2d(x-xg1, y-yg1, gpar1)\n",
    "p.figure()\n",
    "f = p.imshow(n.hstack((g_image1, g_lensimage1)), **myargs)"
   ]
  },
  {
   "cell_type": "code",
   "execution_count": null,
   "metadata": {},
   "outputs": [],
   "source": [
    "# The following lines will plot the un-lensed and lensed images side by side:\n",
    "gpar1 = n.asarray([1.0, 0.05, 0.0, .0, 1.0, 0.0])\n",
    "lpar1 = n.asarray([1.5, 0.0, 0.0, 1.0, 0.0])\n",
    "g_image1 = ldf.gauss_2d(x, y, gpar1)\n",
    "(xg1, yg1) = ldf.sie_grad(x, y, lpar1)\n",
    "g_lensimage1 = ldf.gauss_2d(x-xg1, y-yg1, gpar1)\n",
    "p.figure()\n",
    "f = p.imshow(n.hstack((g_image1, g_lensimage1)), **myargs)"
   ]
  },
  {
   "cell_type": "code",
   "execution_count": null,
   "metadata": {},
   "outputs": [],
   "source": [
    "# The following lines will plot the un-lensed and lensed images side by side:\n",
    "gpar1 = n.asarray([1.0, 0.05, 0.0, .0, 1.0, 0.0])\n",
    "lpar1 = n.asarray([1.5, 0.0, 0.0, 1.0, 0.0])\n",
    "g_image1 = ldf.gauss_2d(x, y, gpar1)\n",
    "(xg1, yg1) = ldf.sie_grad(x, y, lpar1)\n",
    "g_lensimage1 = ldf.gauss_2d(x-xg1, y-yg1, gpar1)\n",
    "p.figure()\n",
    "f = p.imshow(n.hstack((g_image1, g_lensimage1)), **myargs)"
   ]
  },
  {
   "cell_type": "code",
   "execution_count": null,
   "metadata": {},
   "outputs": [],
   "source": [
    "# The following lines will plot the un-lensed and lensed images side by side:\n",
    "gpar1 = n.asarray([1.0, 0.05, 0.0, .0, 1.0, 0.0])\n",
    "lpar1 = n.asarray([1.5, 0.0, 0.0, 1.0, 0.0])\n",
    "g_image1 = ldf.gauss_2d(x, y, gpar1)\n",
    "(xg1, yg1) = ldf.sie_grad(x, y, lpar1)\n",
    "g_lensimage1 = ldf.gauss_2d(x-xg1, y-yg1, gpar1)\n",
    "p.figure()\n",
    "f = p.imshow(n.hstack((g_image1, g_lensimage1)), **myargs)"
   ]
  },
  {
   "cell_type": "markdown",
   "metadata": {},
   "source": [
    "## Relation to the mass of galaxies\n",
    "\n",
    "As stated above, the Einstein radius gives us the ability to measure the mass of the lensing galaxy. The parameters we have played with have to do with the geometry between the two galaxies and us and with the Einstein radius in particular. By optimizing the parameters in the last two activities, you estimated the value for the Einstein radius. Knowing that and the various distances involved, you can use the following formula to find the mass of the lensing galaxy.\n",
    "\n",
    "$$ \\theta_1 = \\sqrt{\\frac{4GM}{c^2}\\frac{D_{LS}}{D_LD_S}} $$\n",
    "\n",
    "In the equation above:\n",
    "\n",
    "$\\theta_1$ is the Einstein radius<br>\n",
    "c is the speed of light<br>\n",
    "G is the gravitational constant<br>\n",
    "M is the mass of the lensed galaxy<br>\n",
    "$D_L$ is the distance to the lensing galaxy (Chris)<br>\n",
    "$D_S$ is the distance to the lensed galaxy (Pat)<br>\n",
    "$D_{LS}$ is the distance from the lensed galaxy (Pat) to the lensing galaxy (Chris)<br>\n",
    "\n",
    "The distances to these galaxies are determined by the galaxies' respective redshifted spectra. If you have any questions about how this is done, feel free to ask one of us.\n",
    "\n",
    "In the diagram below, the Einstein radius is given by $\\theta_1$.\n",
    "\n",
    "<img src = \"grav_lens.png\">\n",
    "<img src = \"Einstein_radius.png\" width = 400 height = 400>"
   ]
  }
 ],
 "metadata": {
  "kernelspec": {
   "display_name": "Python 3",
   "language": "python",
   "name": "python3"
  },
  "language_info": {
   "codemirror_mode": {
    "name": "ipython",
    "version": 3
   },
   "file_extension": ".py",
   "mimetype": "text/x-python",
   "name": "python",
   "nbconvert_exporter": "python",
   "pygments_lexer": "ipython3",
   "version": "3.6.5"
  }
 },
 "nbformat": 4,
 "nbformat_minor": 2
}
