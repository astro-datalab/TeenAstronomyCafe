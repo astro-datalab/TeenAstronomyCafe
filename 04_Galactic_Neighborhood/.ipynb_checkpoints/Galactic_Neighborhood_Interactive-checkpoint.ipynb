{
 "cells": [
  {
   "cell_type": "markdown",
   "metadata": {},
   "source": [
    "# <u>**The Future Fate of the Milky Way and Andromeda**</u>\n",
    "#### Written by Ekta Patel, U. Arizona (ektapatel@email.arizona.edu)\n",
    "#### Simulation by Gurtina Besla, U. Arizona\n",
    "\n",
    "<br>\n",
    "In this notebook, we will explore the future fate of the Milky Way, Andromeda (M31), and the Triangulum (M33) galaxy. We will do so by analyzing a simulation of these galaxies where their current space motion is used to model their future orbital trajectories. \n",
    "\n",
    "Please feel free to ask questions as we work through this activity together!"
   ]
  },
  {
   "cell_type": "code",
   "execution_count": null,
   "metadata": {},
   "outputs": [],
   "source": [
    "# Ignore this stuff - it is to setup the plotting envrionment in your browser\n",
    "# Just hit Shift + Enter here, and move on\n",
    "%matplotlib inline\n",
    "import matplotlib\n",
    "import matplotlib.pyplot as plt\n",
    "%config InlineBackend.figure_format = 'retina'\n",
    "import numpy as np\n",
    "from CenterOfMass import CenterOfMass\n",
    "import astropy.units as u\n",
    "from astropy.constants import G\n",
    "from matplotlib.colors import LogNorm\n",
    "from IPython.display import display, HTML\n",
    "from ipywidgets import interactive, FloatSlider\n",
    "import pandas as pd\n",
    "import warnings\n",
    "warnings.filterwarnings(\"ignore\")"
   ]
  },
  {
   "cell_type": "markdown",
   "metadata": {},
   "source": [
    "# <u>Activity 1: Simulating the Motion of Galaxies </u>\n",
    "\n",
    "As we learned earlier, snapshots of the sky taken using telescopes don't always provide enough information for us to understand how galaxies have been moving relative to one another in the past. Therefore, we have to use something called <i> proper motion </i> to get a sense of how a galaxy is moving. <font color='blue'> Proper motion is the measure of the amount a galaxy moves across the sky relative to some distant background object over time.</font> The accuracy of these types of measurements for galaxies like Andromeda are about 10-30 micro-arcseconds per year, which is equivalent to roughly the rate of human hair growth at the distance of the Moon! In other words, these are very tiny movements!"
   ]
  },
  {
   "cell_type": "markdown",
   "metadata": {},
   "source": [
    "## Part 1: Let's explore the orbits of some of the satellite galaxies orbiting around the MW. The following plots show predicted orbits for MW satellites during the last 2 billion years. \n",
    "\n",
    "### 1 kiloparsec (kpc) is about 200 million times the distance between the Earth and the Sun! \n",
    "\n",
    "### 1 Gyr = 1 billion years. \n",
    "### <u>Remember that the stationary white dots represent the galaxies' current positions, and the colored lines show their past positions!\n",
    "\n",
    "<b> <font color='red'> Hit Shift+Return in the cell below to make the video play.</font></b>\n",
    "\n"
   ]
  },
  {
   "cell_type": "code",
   "execution_count": null,
   "metadata": {},
   "outputs": [],
   "source": [
    "import io, base64\n",
    "video = io.open('classical_sats_ufds_font.mp4', 'r+b').read()\n",
    "encoded = base64.b64encode(video)\n",
    "HTML(data='''\n",
    "<video controls autoplay loop>\n",
    "    <source src=\"data:video/mp4;base64,{0}\" width=\"200\" type=\"video/mp4\">\n",
    "</video>\n",
    "<figcaption>\n",
    "<br>\n",
    "<b>Movie Credit:</b> Ekta Patel </figcaption>'''.format(encoded.decode('ascii'))) \n"
   ]
  },
  {
   "cell_type": "markdown",
   "metadata": {},
   "source": [
    "## Part 2: Let's move to the Andromeda galaxy -- the closest galaxy to the MW that has approximately the same mass. Andromeda is currently moving towards the Milky Way at a rate of 110 km/s. That's 246,063 miles/hr!\n",
    "<br>\n",
    "<figure>\n",
    "<center>\n",
    "<img src=\"M31.jpg\", width=800>\n",
    "<figcaption>The Andromeda Galaxy. \n",
    "<br>\n",
    "<b>Image Credit:</b> Adam Evans</figcaption>\n",
    "</center>\n",
    "</figure>\n",
    "\n",
    "<br>\n",
    "<figure>\n",
    "<center>\n",
    "<img src=\"pandas.jpg\", width=800>\n",
    "<figcaption>Andromeda also has many satellite galaxies. Their proper motions have not been measured yet, so we cannot predict their past orbital histories. The Andromeda Galaxy observed by the PAndAS survey. \n",
    "<br>\n",
    "<br>\n",
    "<b>Image Credit:</b> Pan-Andromeda Archaeological Survey.</figcaption>\n",
    "</center>\n",
    "</figure>"
   ]
  },
  {
   "cell_type": "markdown",
   "metadata": {},
   "source": [
    "# <u>Activity 2: The future orbits of the Milky Way and Andromeda </u>\n",
    "\n",
    "Let's start analyzing the simulation of the future MW and Andromeda collision. The galaxies are represented by mass particles. The MW is composed of about 67,500 particles in this simulation. M31 is composed of about 94,500 particles and M33 is represented by 14,300 particles. \n",
    "\n",
    "### <b> <font color='blue'> Q: Why do you think the galaxies are represented with different numbers of particles? </font> </b>\n"
   ]
  },
  {
   "cell_type": "markdown",
   "metadata": {},
   "source": [
    "## Part 1: The orbital trajectories of the MW and Andromeda\n",
    "The code below plots the particle-averaged orbits of the MW and Andromeda. The plot on the left shows the separation between the galaxies as a function of future time. The plot on the right shows the relative velocity between the two galaxies as a function of time.\n",
    "<br> <b> <font color='red'> Hit Shift+Return in the cell below to make the plots.</font></b>"
   ]
  },
  {
   "cell_type": "code",
   "execution_count": null,
   "metadata": {
    "scrolled": false
   },
   "outputs": [],
   "source": [
    "# This sets how many Gyr into the future we can see the orbits for. 0 Gyr = today \n",
    "# and 12 Gyr is the maximum.\n",
    "mintime = 0. ## EDIT HERE!\n",
    "maxtime = 12. ## EDIT HERE!\n",
    "\n",
    "# This sets the upper limit on the separation between the galaxies.\n",
    "max_sep = 800 ## EDIT HERE!\n",
    "\n",
    "\n",
    "####################################\n",
    "### ignore everything below here ###\n",
    "\n",
    "# headers:  t, x, y, z, vx, vy, vz\n",
    "MWOrbit = np.genfromtxt('Orbit_MW.txt',dtype=None,names=True) \n",
    "M31Orbit = np.genfromtxt('Orbit_M31.txt',dtype=None,names=True) \n",
    "M33Orbit = np.genfromtxt('Orbit_M33.txt',dtype=None,names=True)\n",
    "\n",
    "\n",
    "# Determine the magnitude of the \n",
    "# relative position and velocities \n",
    "# of MW and M31\n",
    "\n",
    "M31MWR = np.sqrt((MWOrbit['x']-M31Orbit['x'])**2 + (MWOrbit['y']-M31Orbit['y'])**2 \n",
    "                 +(MWOrbit['z']-M31Orbit['z'])**2) \n",
    "M31MWV = np.sqrt((MWOrbit['vx']-M31Orbit['vx'])**2 + (MWOrbit['vy']-M31Orbit['vy'])**2 \n",
    "                 +(MWOrbit['vz']-M31Orbit['vz'])**2) \n",
    "\n",
    "# of M33 and M31\n",
    "M33M31R = np.sqrt((M31Orbit['x']-M33Orbit['x'])**2 + (M31Orbit['y']-M33Orbit['y'])**2 \n",
    "                 +(M31Orbit['z']-M33Orbit['z'])**2) \n",
    "M33M31V = np.sqrt((M31Orbit['vx']-M33Orbit['vx'])**2 + (M31Orbit['vy']-M33Orbit['vy'])**2 \n",
    "                 +(M31Orbit['vz']-M33Orbit['vz'])**2)\n",
    "\n",
    "# of MW and M33\n",
    "MWM33R = np.sqrt((MWOrbit['x']-M33Orbit['x'])**2 + (MWOrbit['y']-M33Orbit['y'])**2 \n",
    "                 +(MWOrbit['z']-M33Orbit['z'])**2) \n",
    "MWM33V = np.sqrt((MWOrbit['vx']-M33Orbit['vx'])**2 + (MWOrbit['vy']-M33Orbit['vy'])**2 \n",
    "                 +(MWOrbit['vz']-M33Orbit['vz'])**2)\n",
    "\n",
    "\n",
    "plt.figure(figsize=(12,6))\n",
    "label_size = 16\n",
    "matplotlib.rcParams['xtick.labelsize'] = label_size \n",
    "matplotlib.rcParams['ytick.labelsize'] = label_size\n",
    "\n",
    "# Plot 1 - Left \n",
    "ax = plt.subplot(121)\n",
    "\n",
    "plt.plot(MWOrbit['t'], M31MWR, lw=3, color='purple', label='MW-M31 separation')\n",
    "\n",
    "plt.xlabel('Time (Gyr)', fontsize=16)\n",
    "plt.ylabel('Separation (kpc)', fontsize=16)\n",
    "\n",
    "ax.set_xlim(mintime, maxtime)\n",
    "ax.set_ylim(0, max_sep)\n",
    "\n",
    "plt.legend(loc='upper right',fontsize='x-large')\n",
    "\n",
    "# Plot 2 - Right\n",
    "ax2 = plt.subplot(122)\n",
    "\n",
    "plt.plot(MWOrbit['t'], M31MWV, lw=3, color='orange', label='MW-M31 separation')\n",
    "\n",
    "ax2.set_xlim(mintime, maxtime)\n",
    "ax2.set_ylim(0, max_sep)\n",
    "\n",
    "plt.xlabel('Time (Gyr)', fontsize=16)\n",
    "plt.ylabel('Velocity (km/s)', fontsize=16)\n",
    "\n",
    "plt.legend(loc='upper right',fontsize='x-large')\n",
    "plt.tight_layout()"
   ]
  },
  {
   "cell_type": "markdown",
   "metadata": {},
   "source": [
    "### <b> <font color='blue'> Q: When will the MW and Andromeda (M31) first collide? Hint: What do the dips and the peaks in each plot above represent? </font> </b> \n",
    "\n",
    "### <b> <font color='blue'> Q: How many times will the two galaxies interact before they completely merge? When will that happen?</font> </b> \n",
    "\n",
    "<b> <font color ='red'>You may need to zoom in on the plots above by changing the quantities labeled \"mintime\", \"maxtime\" and \"max_sep\" at the beginning of the cell above. </font></b>"
   ]
  },
  {
   "cell_type": "markdown",
   "metadata": {},
   "source": [
    "## Part 2: What will the galaxies look like when they first collide? \n",
    "<font color='red'><b> Hit Shift+Return </font></b> to see what the galaxies look like at the start of the simulation (snap=0), which corresponds to today. "
   ]
  },
  {
   "cell_type": "code",
   "execution_count": null,
   "metadata": {
    "scrolled": false
   },
   "outputs": [],
   "source": [
    "####################################\n",
    "### ignore everything below here ###\n",
    "\n",
    "#imports all the data for the x,y,z positions of the particles\n",
    "df_MW = pd.read_csv(\"MW_xyz_data.csv\")\n",
    "df_M31 = pd.read_csv(\"M31_xyz_data.csv\")\n",
    "\n",
    "def plotting_double(snap):\n",
    "    thissnap = '000' + str(int(snap))                       \n",
    "    thissnap = thissnap[-3:]\n",
    "    \n",
    "    xD = np.array(df_MW.loc[lambda df: df_MW.snap == snap, \"X\"])\n",
    "    yD = np.array(df_MW.loc[lambda df: df_MW.snap == snap, \"Y\"])\n",
    "    xD2 = np.array(df_M31.loc[lambda df: df_M31.snap == snap, \"X\"])\n",
    "    yD2 = np.array(df_M31.loc[lambda df: df_M31.snap == snap, \"Y\"])\n",
    "    \n",
    "    fig = plt.figure(figsize=(12,6))\n",
    "\n",
    "    ax = plt.subplot(121)\n",
    "\n",
    "    ax.hist2d(xD, yD, bins=600, norm=LogNorm(), cmap='magma')\n",
    "\n",
    "    # Add axis labels\n",
    "    ax.set_xlabel('x (kpc)', fontsize=22)\n",
    "    ax.set_ylabel('y (kpc)', fontsize=22)\n",
    "\n",
    "    box = 100.\n",
    "    #set axis limits\n",
    "    ax.set_ylim(-box,box)\n",
    "    ax.set_xlim(-box,box)\n",
    "    plt.figtext(0.15, 0.85, 'MW',fontsize=22)\n",
    "    \n",
    "\n",
    "    ax2 = plt.subplot(122)\n",
    "    ax2.hist2d(xD2, yD2, bins=600, norm=LogNorm(), cmap='magma')\n",
    "\n",
    "    # Add axis labels\n",
    "    ax2.set_xlabel('x (kpc)', fontsize=22)\n",
    "    ax2.set_ylabel('y (kpc)', fontsize=22)\n",
    "\n",
    "    #set axis limits\n",
    "    ax2.set_ylim(-box,box)\n",
    "    ax2.set_xlim(-box,box)\n",
    "    plt.figtext(0.9, 0.85, 'M31',fontsize=22)\n",
    "\n",
    "    plt.tight_layout()\n",
    "    plt.subplots_adjust(top=0.9)\n",
    "    plt.suptitle('snap = %s, time = %s Gyr'%(snap, round(int(thissnap)*14.287/1000,2)), fontsize=22, color='blue')\n",
    "    plt.show()\n",
    "\n",
    "#This is where the interactive plot happens. If you want to add a print statement here to tell them what to do\n",
    "interactive_plot_1 = interactive(plotting_double, snap=FloatSlider(min=0, max=800, step=10, value=0, continuous_update=False))\n",
    "display(interactive_plot_1)"
   ]
  },
  {
   "cell_type": "markdown",
   "metadata": {},
   "source": [
    "<font color='red'> <b> Now go to the top of the plot above and move the slider labeled 'snap' to see what the galaxies will look like at future points in the orbit. Each \"snap\" or \"snapshot\" corresponds to about 14 million years in the future.</font> </b>"
   ]
  },
  {
   "cell_type": "markdown",
   "metadata": {},
   "source": [
    "# <u>Activity 3: The Future Evolution of M33 </u>\n",
    "\n",
    "## Part 1:  What happens to M33 during the MW and Andromeda collision? It started off as a satellite galaxy of Andromeda. "
   ]
  },
  {
   "cell_type": "markdown",
   "metadata": {},
   "source": [
    "The following piece of code will plot the trajectories of M33-MW and M33-M31 until 6.5 Gyr into the future. <font color='red'> <b> Hit Shift+Return.</b></font>.  "
   ]
  },
  {
   "cell_type": "code",
   "execution_count": null,
   "metadata": {},
   "outputs": [],
   "source": [
    "time = 12 ## EDIT HERE!\n",
    "\n",
    "####################################\n",
    "### ignore everything below this ###\n",
    "plt.figure(figsize=(12,6))\n",
    "# Plot 1\n",
    "ax = plt.subplot(111)\n",
    "plt.plot(M33Orbit['t'], MWM33R, lw=5, color='blue', label='separation between MW-M33')\n",
    "plt.plot(M33Orbit['t'], M33M31R, lw=3, color='limegreen', label='separation between M31-M33')\n",
    "\n",
    "plt.xlabel('Time (Gyr)', fontsize=18)\n",
    "plt.ylabel('Separation (kpc)', fontsize=18)\n",
    "\n",
    "label_size = 16\n",
    "matplotlib.rcParams['xtick.labelsize'] = label_size \n",
    "matplotlib.rcParams['ytick.labelsize'] = label_size\n",
    "\n",
    "plt.legend(loc='upper right',fontsize='x-large')\n",
    "plt.xlim(0, time)\n",
    "ax.set_rasterized(True)\n",
    "\n",
    "\n",
    "plt.tight_layout()"
   ]
  },
  {
   "cell_type": "markdown",
   "metadata": {},
   "source": [
    "### <font color='blue'>Q: Will M33 collide with either the MW, Andromeda, or the merged galaxy? \n",
    "\n",
    "<font color='red'> <b> Edit the line that says 'time = ' in the cell above to anything between 0 and 12 to see the future orbit of M33. </font> </b>\n"
   ]
  },
  {
   "cell_type": "markdown",
   "metadata": {},
   "source": [
    "## Part 2: What happens to the morphology of M33 over time?\n",
    "\n",
    "The cell below shows you what M33 looks like at the start of the simulation. <font color='red'> <b>Hit Shift+Return.</b></font>"
   ]
  },
  {
   "cell_type": "code",
   "execution_count": null,
   "metadata": {},
   "outputs": [],
   "source": [
    "particle_type = 1 ## EDIT HERE! 1 = dark matter particles, 2 = star particles\n",
    "\n",
    "### ignore everything below here ### \n",
    "def single_plotting(snap, particle_type):\n",
    "    thissnap = '000' + str(int(snap))                       \n",
    "    thissnap = thissnap[-3:]  \n",
    "\n",
    "    ## M33\n",
    "    COMD3 = CenterOfMass(\"Sims/M33_VLowRes/M33_%s.txt\"%thissnap,particle_type)\n",
    "    COMP3 = [-475. * u.kpc, 490. * u.kpc, -415 * u.kpc]#COMD3.COM_P(0.1, 4.0)\n",
    "    COMV3 = COMD3.COM_V(COMP3[0],COMP3[1],COMP3[2])\n",
    "\n",
    "    # Determine positions and velocities of disk particles relative to COM motion\n",
    "    xD3 = COMD3.x - float(COMP3[0]/u.kpc)\n",
    "    yD3 = COMD3.y - float(COMP3[1]/u.kpc)\n",
    "    zD3 = COMD3.z - float(COMP3[2]/u.kpc)\n",
    "\n",
    "    plt.figure(figsize=(8,8))\n",
    "    plt.title('snap = %s, time = %s Gyr'%(snap, round(int(thissnap)*14.287/1000,2)), fontsize=22, color='blue')\n",
    "    \n",
    "\n",
    "    plt.hist2d(xD3, yD3, bins=300, norm=LogNorm(), cmap='magma')\n",
    "\n",
    "    # Add axis labels\n",
    "    plt.xlabel('x (kpc)', fontsize=22)\n",
    "    plt.ylabel('y (kpc)', fontsize=22)\n",
    "    plt.figtext(1., 0.5, 'particle_type: \\n 1 = dark matter particles \\n 2 = star particles', fontsize=22)\n",
    "    plt.figtext(0.15, 0.82, 'M33', fontsize=22)\n",
    "    \n",
    "    if particle_type == 1:\n",
    "        plt.figtext(0.65, 0.82, 'dark matter', color='red', fontsize=22)\n",
    "        \n",
    "    if particle_type == 2:\n",
    "        plt.figtext(0.65, 0.82, 'stars', color='red', fontsize=22)\n",
    "        \n",
    "    plt.show()\n",
    "\n",
    "#This is where the interactive plot happens. If you want to add a print statement here to tell them what to do\n",
    "interactive_plot_2 = interactive(single_plotting, snap=FloatSlider(min=0, max=800, step=10, value=0, continuous_update=False), particle_type = (1,2,1))\n",
    "display(interactive_plot_2)"
   ]
  },
  {
   "cell_type": "markdown",
   "metadata": {},
   "source": [
    "### <font color='blue'>Q: How does M33's morphology change over time?</font>\n",
    "<br>\n",
    "<font color='red'> <b> Go to the top of the plot above and move the slider labeled 'snap' to see what M33 will look like at future points in the orbit.  </font> </b>\n",
    "<br>\n"
   ]
  },
  {
   "cell_type": "markdown",
   "metadata": {
    "collapsed": true
   },
   "source": [
    "### <font color='blue'> Q: Do the stars and the dark matter particles have the same shape? What about how far the stars vs. dark matter particles extend in size (hint: how do the limits of the x and y axis change)?</font>\n",
    "<br>\n",
    "<font color='red'> <b> Go to the top of the plot above and move the slider labeled 'particle_type' to 2. 1 represents the dark matter halo particles and 2 shows the star particles. \n",
    "\n",
    "<br> Then, move the 'snap' slider to compare and contrast the features of the stars and dark matter in M33 as a function of time. </font> </b>"
   ]
  }
 ],
 "metadata": {
  "kernelspec": {
   "display_name": "Python 3",
   "language": "python",
   "name": "python3"
  },
  "language_info": {
   "codemirror_mode": {
    "name": "ipython",
    "version": 3
   },
   "file_extension": ".py",
   "mimetype": "text/x-python",
   "name": "python",
   "nbconvert_exporter": "python",
   "pygments_lexer": "ipython3",
   "version": "3.6.5"
  }
 },
 "nbformat": 4,
 "nbformat_minor": 1
}
